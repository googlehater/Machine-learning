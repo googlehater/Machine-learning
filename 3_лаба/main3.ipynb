{
 "cells": [
  {
   "cell_type": "markdown",
   "id": "c5e70c8b",
   "metadata": {},
   "source": [
    "**Задание 1.** Изучение набора данных"
   ]
  },
  {
   "cell_type": "code",
   "execution_count": 714,
   "id": "7da88eec",
   "metadata": {},
   "outputs": [],
   "source": [
    "import pandas as pd\n",
    "import numpy as np\n",
    "\n",
    "\n",
    "df = pd.read_csv('autos.csv', encoding='ISO-8859-1')"
   ]
  },
  {
   "cell_type": "code",
   "execution_count": 715,
   "id": "86cd45ac",
   "metadata": {},
   "outputs": [
    {
     "data": {
      "text/html": [
       "<div>\n",
       "<style scoped>\n",
       "    .dataframe tbody tr th:only-of-type {\n",
       "        vertical-align: middle;\n",
       "    }\n",
       "\n",
       "    .dataframe tbody tr th {\n",
       "        vertical-align: top;\n",
       "    }\n",
       "\n",
       "    .dataframe thead th {\n",
       "        text-align: right;\n",
       "    }\n",
       "</style>\n",
       "<table border=\"1\" class=\"dataframe\">\n",
       "  <thead>\n",
       "    <tr style=\"text-align: right;\">\n",
       "      <th></th>\n",
       "      <th>dateCrawled</th>\n",
       "      <th>name</th>\n",
       "      <th>seller</th>\n",
       "      <th>offerType</th>\n",
       "      <th>price</th>\n",
       "      <th>abtest</th>\n",
       "      <th>vehicleType</th>\n",
       "      <th>yearOfRegistration</th>\n",
       "      <th>gearbox</th>\n",
       "      <th>powerPS</th>\n",
       "      <th>model</th>\n",
       "      <th>kilometer</th>\n",
       "      <th>monthOfRegistration</th>\n",
       "      <th>fuelType</th>\n",
       "      <th>brand</th>\n",
       "      <th>notRepairedDamage</th>\n",
       "      <th>dateCreated</th>\n",
       "      <th>nrOfPictures</th>\n",
       "      <th>postalCode</th>\n",
       "      <th>lastSeen</th>\n",
       "    </tr>\n",
       "  </thead>\n",
       "  <tbody>\n",
       "    <tr>\n",
       "      <th>0</th>\n",
       "      <td>2016-03-24 11:52:17</td>\n",
       "      <td>Golf_3_1.6</td>\n",
       "      <td>privat</td>\n",
       "      <td>Angebot</td>\n",
       "      <td>480</td>\n",
       "      <td>test</td>\n",
       "      <td>NaN</td>\n",
       "      <td>1993</td>\n",
       "      <td>manuell</td>\n",
       "      <td>0</td>\n",
       "      <td>golf</td>\n",
       "      <td>150000</td>\n",
       "      <td>0</td>\n",
       "      <td>benzin</td>\n",
       "      <td>volkswagen</td>\n",
       "      <td>NaN</td>\n",
       "      <td>2016-03-24 00:00:00</td>\n",
       "      <td>0</td>\n",
       "      <td>70435</td>\n",
       "      <td>2016-04-07 03:16:57</td>\n",
       "    </tr>\n",
       "    <tr>\n",
       "      <th>1</th>\n",
       "      <td>2016-03-24 10:58:45</td>\n",
       "      <td>A5_Sportback_2.7_Tdi</td>\n",
       "      <td>privat</td>\n",
       "      <td>Angebot</td>\n",
       "      <td>18300</td>\n",
       "      <td>test</td>\n",
       "      <td>coupe</td>\n",
       "      <td>2011</td>\n",
       "      <td>manuell</td>\n",
       "      <td>190</td>\n",
       "      <td>NaN</td>\n",
       "      <td>125000</td>\n",
       "      <td>5</td>\n",
       "      <td>diesel</td>\n",
       "      <td>audi</td>\n",
       "      <td>ja</td>\n",
       "      <td>2016-03-24 00:00:00</td>\n",
       "      <td>0</td>\n",
       "      <td>66954</td>\n",
       "      <td>2016-04-07 01:46:50</td>\n",
       "    </tr>\n",
       "    <tr>\n",
       "      <th>2</th>\n",
       "      <td>2016-03-14 12:52:21</td>\n",
       "      <td>Jeep_Grand_Cherokee_\"Overland\"</td>\n",
       "      <td>privat</td>\n",
       "      <td>Angebot</td>\n",
       "      <td>9800</td>\n",
       "      <td>test</td>\n",
       "      <td>suv</td>\n",
       "      <td>2004</td>\n",
       "      <td>automatik</td>\n",
       "      <td>163</td>\n",
       "      <td>grand</td>\n",
       "      <td>125000</td>\n",
       "      <td>8</td>\n",
       "      <td>diesel</td>\n",
       "      <td>jeep</td>\n",
       "      <td>NaN</td>\n",
       "      <td>2016-03-14 00:00:00</td>\n",
       "      <td>0</td>\n",
       "      <td>90480</td>\n",
       "      <td>2016-04-05 12:47:46</td>\n",
       "    </tr>\n",
       "    <tr>\n",
       "      <th>3</th>\n",
       "      <td>2016-03-17 16:54:04</td>\n",
       "      <td>GOLF_4_1_4__3TÜRER</td>\n",
       "      <td>privat</td>\n",
       "      <td>Angebot</td>\n",
       "      <td>1500</td>\n",
       "      <td>test</td>\n",
       "      <td>kleinwagen</td>\n",
       "      <td>2001</td>\n",
       "      <td>manuell</td>\n",
       "      <td>75</td>\n",
       "      <td>golf</td>\n",
       "      <td>150000</td>\n",
       "      <td>6</td>\n",
       "      <td>benzin</td>\n",
       "      <td>volkswagen</td>\n",
       "      <td>nein</td>\n",
       "      <td>2016-03-17 00:00:00</td>\n",
       "      <td>0</td>\n",
       "      <td>91074</td>\n",
       "      <td>2016-03-17 17:40:17</td>\n",
       "    </tr>\n",
       "    <tr>\n",
       "      <th>4</th>\n",
       "      <td>2016-03-31 17:25:20</td>\n",
       "      <td>Skoda_Fabia_1.4_TDI_PD_Classic</td>\n",
       "      <td>privat</td>\n",
       "      <td>Angebot</td>\n",
       "      <td>3600</td>\n",
       "      <td>test</td>\n",
       "      <td>kleinwagen</td>\n",
       "      <td>2008</td>\n",
       "      <td>manuell</td>\n",
       "      <td>69</td>\n",
       "      <td>fabia</td>\n",
       "      <td>90000</td>\n",
       "      <td>7</td>\n",
       "      <td>diesel</td>\n",
       "      <td>skoda</td>\n",
       "      <td>nein</td>\n",
       "      <td>2016-03-31 00:00:00</td>\n",
       "      <td>0</td>\n",
       "      <td>60437</td>\n",
       "      <td>2016-04-06 10:17:21</td>\n",
       "    </tr>\n",
       "  </tbody>\n",
       "</table>\n",
       "</div>"
      ],
      "text/plain": [
       "           dateCrawled                            name  seller offerType  \\\n",
       "0  2016-03-24 11:52:17                      Golf_3_1.6  privat   Angebot   \n",
       "1  2016-03-24 10:58:45            A5_Sportback_2.7_Tdi  privat   Angebot   \n",
       "2  2016-03-14 12:52:21  Jeep_Grand_Cherokee_\"Overland\"  privat   Angebot   \n",
       "3  2016-03-17 16:54:04              GOLF_4_1_4__3TÜRER  privat   Angebot   \n",
       "4  2016-03-31 17:25:20  Skoda_Fabia_1.4_TDI_PD_Classic  privat   Angebot   \n",
       "\n",
       "   price abtest vehicleType  yearOfRegistration    gearbox  powerPS  model  \\\n",
       "0    480   test         NaN                1993    manuell        0   golf   \n",
       "1  18300   test       coupe                2011    manuell      190    NaN   \n",
       "2   9800   test         suv                2004  automatik      163  grand   \n",
       "3   1500   test  kleinwagen                2001    manuell       75   golf   \n",
       "4   3600   test  kleinwagen                2008    manuell       69  fabia   \n",
       "\n",
       "   kilometer  monthOfRegistration fuelType       brand notRepairedDamage  \\\n",
       "0     150000                    0   benzin  volkswagen               NaN   \n",
       "1     125000                    5   diesel        audi                ja   \n",
       "2     125000                    8   diesel        jeep               NaN   \n",
       "3     150000                    6   benzin  volkswagen              nein   \n",
       "4      90000                    7   diesel       skoda              nein   \n",
       "\n",
       "           dateCreated  nrOfPictures  postalCode             lastSeen  \n",
       "0  2016-03-24 00:00:00             0       70435  2016-04-07 03:16:57  \n",
       "1  2016-03-24 00:00:00             0       66954  2016-04-07 01:46:50  \n",
       "2  2016-03-14 00:00:00             0       90480  2016-04-05 12:47:46  \n",
       "3  2016-03-17 00:00:00             0       91074  2016-03-17 17:40:17  \n",
       "4  2016-03-31 00:00:00             0       60437  2016-04-06 10:17:21  "
      ]
     },
     "execution_count": 715,
     "metadata": {},
     "output_type": "execute_result"
    }
   ],
   "source": [
    "df.head()"
   ]
  },
  {
   "cell_type": "code",
   "execution_count": 716,
   "id": "41e9cafb",
   "metadata": {},
   "outputs": [
    {
     "name": "stdout",
     "output_type": "stream",
     "text": [
      "dateCrawled\n",
      "name\n",
      "seller\n",
      "offerType\n",
      "price\n",
      "abtest\n",
      "vehicleType\n",
      "yearOfRegistration\n",
      "gearbox\n",
      "powerPS\n",
      "model\n",
      "kilometer\n",
      "monthOfRegistration\n",
      "fuelType\n",
      "brand\n",
      "notRepairedDamage\n",
      "dateCreated\n",
      "nrOfPictures\n",
      "postalCode\n",
      "lastSeen\n"
     ]
    }
   ],
   "source": [
    "cols = df.columns\n",
    "for i in cols:\n",
    "    print(i)"
   ]
  },
  {
   "cell_type": "markdown",
   "id": "1ecd7eff",
   "metadata": {},
   "source": [
    "dateCrawled : при первом просмотре этого объявления все значения полей были взяты из этой даты          \n",
    "name : \"имя\" автомобиля         \n",
    "seller : частное лицо или дилер         \n",
    "offerType: тип предложения (Angebot)            \n",
    "price : цена, указанная в объявлении о продаже автомобиля           \n",
    "abtest: проверка(?) (test)                \n",
    "vehicleType: тип кузова     \n",
    "yearOfRegistration : в каком году автомобиль был впервые зарегистрирован        \n",
    "gearbox: тип коробки передач (автомат, механика)        \n",
    "powerPS : мощность авто в PS        \n",
    "model: модель       \n",
    "kilometer : сколько километров проехал автомобиль       \n",
    "monthOfRegistration : в какой месяц машина первый раз была зарегестрирована     \n",
    "fuelType: тип топлива       \n",
    "brand: бренд        \n",
    "notRepairedDamage : есть ли у автомобиля повреждения, которые не отемонтированы     \n",
    "dateCreated : дата, когда было создано объявление на eBay       \n",
    "nrOfPictures : количество фотографий в объявлении (unfortunately this field contains everywhere a 0 and is thus useless (bug in crawler!) ) – к сожалению это поле везде имеет 0, а значит бесполезно, это изз за ошибки краулера.\n",
    "postalCode: почтовый индекс     \n",
    "lastSeenOnline : когда краулер (поисковой робот) последний раз видел это объявление онлайн      \n"
   ]
  },
  {
   "cell_type": "code",
   "execution_count": null,
   "id": "091b7b58",
   "metadata": {},
   "outputs": [],
   "source": []
  },
  {
   "cell_type": "code",
   "execution_count": 717,
   "id": "2163d3e4",
   "metadata": {},
   "outputs": [
    {
     "data": {
      "text/plain": [
       "notRepairedDamage      72060\n",
       "vehicleType            37869\n",
       "fuelType               33386\n",
       "model                  20484\n",
       "gearbox                20209\n",
       "seller                     0\n",
       "name                       0\n",
       "dateCrawled                0\n",
       "offerType                  0\n",
       "abtest                     0\n",
       "yearOfRegistration         0\n",
       "price                      0\n",
       "kilometer                  0\n",
       "powerPS                    0\n",
       "monthOfRegistration        0\n",
       "brand                      0\n",
       "dateCreated                0\n",
       "nrOfPictures               0\n",
       "postalCode                 0\n",
       "lastSeen                   0\n",
       "dtype: int64"
      ]
     },
     "execution_count": 717,
     "metadata": {},
     "output_type": "execute_result"
    }
   ],
   "source": [
    "null_counts = df.isnull().sum()\n",
    "null_counts = null_counts.sort_values(ascending=False)\n",
    "null_counts"
   ]
  },
  {
   "cell_type": "code",
   "execution_count": 718,
   "id": "c05dec4b",
   "metadata": {},
   "outputs": [
    {
     "name": "stdout",
     "output_type": "stream",
     "text": [
      "<class 'pandas.core.frame.DataFrame'>\n",
      "RangeIndex: 371528 entries, 0 to 371527\n",
      "Data columns (total 20 columns):\n",
      " #   Column               Non-Null Count   Dtype \n",
      "---  ------               --------------   ----- \n",
      " 0   dateCrawled          371528 non-null  object\n",
      " 1   name                 371528 non-null  object\n",
      " 2   seller               371528 non-null  object\n",
      " 3   offerType            371528 non-null  object\n",
      " 4   price                371528 non-null  int64 \n",
      " 5   abtest               371528 non-null  object\n",
      " 6   vehicleType          333659 non-null  object\n",
      " 7   yearOfRegistration   371528 non-null  int64 \n",
      " 8   gearbox              351319 non-null  object\n",
      " 9   powerPS              371528 non-null  int64 \n",
      " 10  model                351044 non-null  object\n",
      " 11  kilometer            371528 non-null  int64 \n",
      " 12  monthOfRegistration  371528 non-null  int64 \n",
      " 13  fuelType             338142 non-null  object\n",
      " 14  brand                371528 non-null  object\n",
      " 15  notRepairedDamage    299468 non-null  object\n",
      " 16  dateCreated          371528 non-null  object\n",
      " 17  nrOfPictures         371528 non-null  int64 \n",
      " 18  postalCode           371528 non-null  int64 \n",
      " 19  lastSeen             371528 non-null  object\n",
      "dtypes: int64(7), object(13)\n",
      "memory usage: 56.7+ MB\n"
     ]
    }
   ],
   "source": [
    "df.info()"
   ]
  },
  {
   "cell_type": "markdown",
   "id": "f50ca5c1",
   "metadata": {},
   "source": [
    "**Задание 2.** Проанализировать колонки ии сделать вывод, в какой колонке находится целевое значение. "
   ]
  },
  {
   "cell_type": "markdown",
   "id": "5efab4f3",
   "metadata": {},
   "source": [
    "Из названия колонок видно, что большая часть колонок - это характеристики конкретного автомобиля. Смысла пресказывать количество лошадиных сил или цвет кузова - нет. Поэтому единственным вариантом, что нужнон предсказывать остаётся только колонка **price**. Её и будет предсказывать будущая модель"
   ]
  },
  {
   "cell_type": "markdown",
   "id": "b5e1d5be",
   "metadata": {},
   "source": [
    "**Задание 3.** Удалите дубликаты строк в наборе данных. Привести размер набора данных до и после этой операции"
   ]
  },
  {
   "cell_type": "code",
   "execution_count": 719,
   "id": "cadb90fd",
   "metadata": {},
   "outputs": [],
   "source": [
    "start = df.shape[0]  # before deleting"
   ]
  },
  {
   "cell_type": "code",
   "execution_count": 720,
   "id": "3cb62c22",
   "metadata": {},
   "outputs": [],
   "source": [
    "df = df.drop_duplicates()\n",
    "end = df.shape[0]"
   ]
  },
  {
   "cell_type": "code",
   "execution_count": 721,
   "id": "cbf9bff0",
   "metadata": {},
   "outputs": [
    {
     "name": "stdout",
     "output_type": "stream",
     "text": [
      "Размер датасета до удаления дубликатов: 371528\n",
      "Размер датасета после удаления дубликатов 371524\n",
      "Удалено строк: 4\n"
     ]
    }
   ],
   "source": [
    "print(f'Размер датасета до удаления дубликатов: {start}\\nРазмер датасета после удаления дубликатов {end}\\nУдалено строк: {start - end}')"
   ]
  },
  {
   "cell_type": "markdown",
   "id": "2313dd3c",
   "metadata": {},
   "source": [
    "Как видно, в датасете было 4 дубликата. Было удалено 4 строк"
   ]
  },
  {
   "cell_type": "markdown",
   "id": "5e6ccbdf",
   "metadata": {},
   "source": [
    "**Задание 4.** Удалите выбросы из числовых данных. Используйте критерий 1.5-межквантильного интервала. Приведите диаграммы BoxPlot до и после удаления выбросов."
   ]
  },
  {
   "cell_type": "markdown",
   "id": "9e435a87",
   "metadata": {},
   "source": [
    "Перед удалением выбросов, для начала стоит предобработать данные - заполнить NaN Значения. Их слишком много"
   ]
  },
  {
   "cell_type": "code",
   "execution_count": 722,
   "id": "03c8fcaa",
   "metadata": {},
   "outputs": [
    {
     "data": {
      "text/plain": [
       "notRepairedDamage      72060\n",
       "vehicleType            37869\n",
       "fuelType               33386\n",
       "model                  20484\n",
       "gearbox                20209\n",
       "seller                     0\n",
       "name                       0\n",
       "dateCrawled                0\n",
       "offerType                  0\n",
       "abtest                     0\n",
       "yearOfRegistration         0\n",
       "price                      0\n",
       "kilometer                  0\n",
       "powerPS                    0\n",
       "monthOfRegistration        0\n",
       "brand                      0\n",
       "dateCreated                0\n",
       "nrOfPictures               0\n",
       "postalCode                 0\n",
       "lastSeen                   0\n",
       "dtype: int64"
      ]
     },
     "execution_count": 722,
     "metadata": {},
     "output_type": "execute_result"
    }
   ],
   "source": [
    "null_counts = df.isnull().sum()\n",
    "null_counts = null_counts.sort_values(ascending=False)\n",
    "null_counts"
   ]
  },
  {
   "cell_type": "markdown",
   "id": "d41bf0ce",
   "metadata": {},
   "source": [
    "Из документации к датасету, мы знаем, что колонка nrOfPictures одинаковая, а значит и смысла в ней нет никакого - удаляем."
   ]
  },
  {
   "cell_type": "code",
   "execution_count": 723,
   "id": "96aa84de",
   "metadata": {},
   "outputs": [],
   "source": [
    "df = df.drop('nrOfPictures', axis=1)"
   ]
  },
  {
   "cell_type": "code",
   "execution_count": 724,
   "id": "34eee829",
   "metadata": {},
   "outputs": [],
   "source": [
    "def replace_notRepairedDamage(name):\n",
    "    if name == \"ja\":\n",
    "        return -1\n",
    "    elif name == \"nein\":\n",
    "        return 1\n",
    "    else:\n",
    "        return 0\n",
    "\n",
    "df['notRepairedDamage'] = df['notRepairedDamage'].apply(str).apply(replace_notRepairedDamage)"
   ]
  },
  {
   "cell_type": "code",
   "execution_count": 725,
   "id": "f0d14dce",
   "metadata": {},
   "outputs": [
    {
     "data": {
      "text/plain": [
       "array(['manuell', 'automatik', nan], dtype=object)"
      ]
     },
     "execution_count": 725,
     "metadata": {},
     "output_type": "execute_result"
    }
   ],
   "source": [
    "df['gearbox'].unique()"
   ]
  },
  {
   "cell_type": "code",
   "execution_count": 726,
   "id": "acafb125",
   "metadata": {},
   "outputs": [
    {
     "name": "stderr",
     "output_type": "stream",
     "text": [
      "C:\\Users\\1\\AppData\\Local\\Temp\\ipykernel_12184\\3795657888.py:11: FutureWarning: Downcasting behavior in `replace` is deprecated and will be removed in a future version. To retain the old behavior, explicitly call `result.infer_objects(copy=False)`. To opt-in to the future behavior, set `pd.set_option('future.no_silent_downcasting', True)`\n",
      "  df['gearbox'] = df['gearbox'].replace({'manuell': -1, 'automatik': 1, 'nan': 0})\n"
     ]
    },
    {
     "data": {
      "text/html": [
       "<div>\n",
       "<style scoped>\n",
       "    .dataframe tbody tr th:only-of-type {\n",
       "        vertical-align: middle;\n",
       "    }\n",
       "\n",
       "    .dataframe tbody tr th {\n",
       "        vertical-align: top;\n",
       "    }\n",
       "\n",
       "    .dataframe thead th {\n",
       "        text-align: right;\n",
       "    }\n",
       "</style>\n",
       "<table border=\"1\" class=\"dataframe\">\n",
       "  <thead>\n",
       "    <tr style=\"text-align: right;\">\n",
       "      <th></th>\n",
       "      <th>dateCrawled</th>\n",
       "      <th>name</th>\n",
       "      <th>seller</th>\n",
       "      <th>offerType</th>\n",
       "      <th>price</th>\n",
       "      <th>abtest</th>\n",
       "      <th>vehicleType</th>\n",
       "      <th>yearOfRegistration</th>\n",
       "      <th>gearbox</th>\n",
       "      <th>powerPS</th>\n",
       "      <th>model</th>\n",
       "      <th>kilometer</th>\n",
       "      <th>monthOfRegistration</th>\n",
       "      <th>fuelType</th>\n",
       "      <th>brand</th>\n",
       "      <th>notRepairedDamage</th>\n",
       "      <th>dateCreated</th>\n",
       "      <th>postalCode</th>\n",
       "      <th>lastSeen</th>\n",
       "    </tr>\n",
       "  </thead>\n",
       "  <tbody>\n",
       "    <tr>\n",
       "      <th>0</th>\n",
       "      <td>2016-03-24 11:52:17</td>\n",
       "      <td>Golf_3_1.6</td>\n",
       "      <td>privat</td>\n",
       "      <td>Angebot</td>\n",
       "      <td>480</td>\n",
       "      <td>test</td>\n",
       "      <td>NaN</td>\n",
       "      <td>1993</td>\n",
       "      <td>-1.0</td>\n",
       "      <td>0</td>\n",
       "      <td>golf</td>\n",
       "      <td>150000</td>\n",
       "      <td>0</td>\n",
       "      <td>benzin</td>\n",
       "      <td>volkswagen</td>\n",
       "      <td>0</td>\n",
       "      <td>2016-03-24 00:00:00</td>\n",
       "      <td>70435</td>\n",
       "      <td>2016-04-07 03:16:57</td>\n",
       "    </tr>\n",
       "    <tr>\n",
       "      <th>1</th>\n",
       "      <td>2016-03-24 10:58:45</td>\n",
       "      <td>A5_Sportback_2.7_Tdi</td>\n",
       "      <td>privat</td>\n",
       "      <td>Angebot</td>\n",
       "      <td>18300</td>\n",
       "      <td>test</td>\n",
       "      <td>coupe</td>\n",
       "      <td>2011</td>\n",
       "      <td>-1.0</td>\n",
       "      <td>190</td>\n",
       "      <td>NaN</td>\n",
       "      <td>125000</td>\n",
       "      <td>5</td>\n",
       "      <td>diesel</td>\n",
       "      <td>audi</td>\n",
       "      <td>-1</td>\n",
       "      <td>2016-03-24 00:00:00</td>\n",
       "      <td>66954</td>\n",
       "      <td>2016-04-07 01:46:50</td>\n",
       "    </tr>\n",
       "    <tr>\n",
       "      <th>2</th>\n",
       "      <td>2016-03-14 12:52:21</td>\n",
       "      <td>Jeep_Grand_Cherokee_\"Overland\"</td>\n",
       "      <td>privat</td>\n",
       "      <td>Angebot</td>\n",
       "      <td>9800</td>\n",
       "      <td>test</td>\n",
       "      <td>suv</td>\n",
       "      <td>2004</td>\n",
       "      <td>1.0</td>\n",
       "      <td>163</td>\n",
       "      <td>grand</td>\n",
       "      <td>125000</td>\n",
       "      <td>8</td>\n",
       "      <td>diesel</td>\n",
       "      <td>jeep</td>\n",
       "      <td>0</td>\n",
       "      <td>2016-03-14 00:00:00</td>\n",
       "      <td>90480</td>\n",
       "      <td>2016-04-05 12:47:46</td>\n",
       "    </tr>\n",
       "    <tr>\n",
       "      <th>3</th>\n",
       "      <td>2016-03-17 16:54:04</td>\n",
       "      <td>GOLF_4_1_4__3TÜRER</td>\n",
       "      <td>privat</td>\n",
       "      <td>Angebot</td>\n",
       "      <td>1500</td>\n",
       "      <td>test</td>\n",
       "      <td>kleinwagen</td>\n",
       "      <td>2001</td>\n",
       "      <td>-1.0</td>\n",
       "      <td>75</td>\n",
       "      <td>golf</td>\n",
       "      <td>150000</td>\n",
       "      <td>6</td>\n",
       "      <td>benzin</td>\n",
       "      <td>volkswagen</td>\n",
       "      <td>1</td>\n",
       "      <td>2016-03-17 00:00:00</td>\n",
       "      <td>91074</td>\n",
       "      <td>2016-03-17 17:40:17</td>\n",
       "    </tr>\n",
       "    <tr>\n",
       "      <th>4</th>\n",
       "      <td>2016-03-31 17:25:20</td>\n",
       "      <td>Skoda_Fabia_1.4_TDI_PD_Classic</td>\n",
       "      <td>privat</td>\n",
       "      <td>Angebot</td>\n",
       "      <td>3600</td>\n",
       "      <td>test</td>\n",
       "      <td>kleinwagen</td>\n",
       "      <td>2008</td>\n",
       "      <td>-1.0</td>\n",
       "      <td>69</td>\n",
       "      <td>fabia</td>\n",
       "      <td>90000</td>\n",
       "      <td>7</td>\n",
       "      <td>diesel</td>\n",
       "      <td>skoda</td>\n",
       "      <td>1</td>\n",
       "      <td>2016-03-31 00:00:00</td>\n",
       "      <td>60437</td>\n",
       "      <td>2016-04-06 10:17:21</td>\n",
       "    </tr>\n",
       "  </tbody>\n",
       "</table>\n",
       "</div>"
      ],
      "text/plain": [
       "           dateCrawled                            name  seller offerType  \\\n",
       "0  2016-03-24 11:52:17                      Golf_3_1.6  privat   Angebot   \n",
       "1  2016-03-24 10:58:45            A5_Sportback_2.7_Tdi  privat   Angebot   \n",
       "2  2016-03-14 12:52:21  Jeep_Grand_Cherokee_\"Overland\"  privat   Angebot   \n",
       "3  2016-03-17 16:54:04              GOLF_4_1_4__3TÜRER  privat   Angebot   \n",
       "4  2016-03-31 17:25:20  Skoda_Fabia_1.4_TDI_PD_Classic  privat   Angebot   \n",
       "\n",
       "   price abtest vehicleType  yearOfRegistration  gearbox  powerPS  model  \\\n",
       "0    480   test         NaN                1993     -1.0        0   golf   \n",
       "1  18300   test       coupe                2011     -1.0      190    NaN   \n",
       "2   9800   test         suv                2004      1.0      163  grand   \n",
       "3   1500   test  kleinwagen                2001     -1.0       75   golf   \n",
       "4   3600   test  kleinwagen                2008     -1.0       69  fabia   \n",
       "\n",
       "   kilometer  monthOfRegistration fuelType       brand  notRepairedDamage  \\\n",
       "0     150000                    0   benzin  volkswagen                  0   \n",
       "1     125000                    5   diesel        audi                 -1   \n",
       "2     125000                    8   diesel        jeep                  0   \n",
       "3     150000                    6   benzin  volkswagen                  1   \n",
       "4      90000                    7   diesel       skoda                  1   \n",
       "\n",
       "           dateCreated  postalCode             lastSeen  \n",
       "0  2016-03-24 00:00:00       70435  2016-04-07 03:16:57  \n",
       "1  2016-03-24 00:00:00       66954  2016-04-07 01:46:50  \n",
       "2  2016-03-14 00:00:00       90480  2016-04-05 12:47:46  \n",
       "3  2016-03-17 00:00:00       91074  2016-03-17 17:40:17  \n",
       "4  2016-03-31 00:00:00       60437  2016-04-06 10:17:21  "
      ]
     },
     "execution_count": 726,
     "metadata": {},
     "output_type": "execute_result"
    }
   ],
   "source": [
    "# Лучше заменить значения на 1 или -1\n",
    "def replace_gearbox(name):\n",
    "    if name == 'manuell':\n",
    "        return -1\n",
    "    elif name == 'automatik':\n",
    "        return 1\n",
    "    else:\n",
    "        return 0\n",
    "\n",
    "\n",
    "df['gearbox'] = df['gearbox'].replace({'manuell': -1, 'automatik': 1, 'nan': 0})\n",
    "df.head()"
   ]
  },
  {
   "cell_type": "code",
   "execution_count": 727,
   "id": "b44dff21",
   "metadata": {},
   "outputs": [
    {
     "data": {
      "text/plain": [
       "array(['test', 'control'], dtype=object)"
      ]
     },
     "execution_count": 727,
     "metadata": {},
     "output_type": "execute_result"
    }
   ],
   "source": [
    "df['abtest'].unique()"
   ]
  },
  {
   "cell_type": "code",
   "execution_count": 728,
   "id": "ec23ae02",
   "metadata": {},
   "outputs": [
    {
     "name": "stdout",
     "output_type": "stream",
     "text": [
      "до удаления: 371524\n",
      "после удаления: 299860\n",
      "Удалено: 71664\n"
     ]
    }
   ],
   "source": [
    "start = df.shape[0]\n",
    "df = df.dropna()\n",
    "end = df.shape[0]\n",
    "print(f'до удаления: {start}\\nпосле удаления: {end}\\nУдалено: {start - end}')"
   ]
  },
  {
   "cell_type": "code",
   "execution_count": 729,
   "id": "a4c97a88",
   "metadata": {},
   "outputs": [
    {
     "name": "stdout",
     "output_type": "stream",
     "text": [
      "<class 'pandas.core.frame.DataFrame'>\n",
      "Index: 299860 entries, 2 to 371527\n",
      "Data columns (total 19 columns):\n",
      " #   Column               Non-Null Count   Dtype  \n",
      "---  ------               --------------   -----  \n",
      " 0   dateCrawled          299860 non-null  object \n",
      " 1   name                 299860 non-null  object \n",
      " 2   seller               299860 non-null  object \n",
      " 3   offerType            299860 non-null  object \n",
      " 4   price                299860 non-null  int64  \n",
      " 5   abtest               299860 non-null  object \n",
      " 6   vehicleType          299860 non-null  object \n",
      " 7   yearOfRegistration   299860 non-null  int64  \n",
      " 8   gearbox              299860 non-null  float64\n",
      " 9   powerPS              299860 non-null  int64  \n",
      " 10  model                299860 non-null  object \n",
      " 11  kilometer            299860 non-null  int64  \n",
      " 12  monthOfRegistration  299860 non-null  int64  \n",
      " 13  fuelType             299860 non-null  object \n",
      " 14  brand                299860 non-null  object \n",
      " 15  notRepairedDamage    299860 non-null  int64  \n",
      " 16  dateCreated          299860 non-null  object \n",
      " 17  postalCode           299860 non-null  int64  \n",
      " 18  lastSeen             299860 non-null  object \n",
      "dtypes: float64(1), int64(7), object(11)\n",
      "memory usage: 45.8+ MB\n"
     ]
    }
   ],
   "source": [
    "df.info()"
   ]
  },
  {
   "cell_type": "code",
   "execution_count": 730,
   "id": "0dfe328f",
   "metadata": {},
   "outputs": [
    {
     "data": {
      "image/png": "[encoded data removed]",
      "text/plain": [
       "<Figure size 1500x800 with 1 Axes>"
      ]
     },
     "metadata": {},
     "output_type": "display_data"
    }
   ],
   "source": [
    "import matplotlib.pyplot as plt\n",
    "import seaborn as sns\n",
    "\n",
    "numeric_cols = ['price', 'yearOfRegistration', 'gearbox', 'powerPS', 'model', 'kilometer', 'monthOfRegistration', 'notRepairedDamage', 'postalCode']\n",
    "\n",
    "\n",
    "plt.figure(figsize=(15, 8))\n",
    "df[numeric_cols].boxplot()\n",
    "plt.title('BoxPlot до удаления выбросов')\n",
    "plt.show()"
   ]
  },
  {
   "cell_type": "markdown",
   "id": "d84ab7f1",
   "metadata": {},
   "source": [
    "Как видно, в колонке price есть слишком огромные значения. Цена, равная 10**8 , является выбросом, поскольку она более, чем в 100 раз превышает среднее значение цены."
   ]
  },
  {
   "cell_type": "code",
   "execution_count": 731,
   "id": "635f2d8c",
   "metadata": {},
   "outputs": [
    {
     "name": "stdout",
     "output_type": "stream",
     "text": [
      "удалено: 36542\n"
     ]
    }
   ],
   "source": [
    "start = df.shape[0]\n",
    "df_new = df[df['price'] < 13600]\n",
    "end = df_new.shape[0]\n",
    "deleted = start - end\n",
    "print(f'удалено: {deleted}')"
   ]
  },
  {
   "cell_type": "code",
   "execution_count": 732,
   "id": "1acd25b3",
   "metadata": {},
   "outputs": [
    {
     "data": {
      "image/png": "[encoded data removed]",
      "text/plain": [
       "<Figure size 1500x800 with 1 Axes>"
      ]
     },
     "metadata": {},
     "output_type": "display_data"
    }
   ],
   "source": [
    "numeric_cols = ['price', 'yearOfRegistration', 'gearbox', 'powerPS', 'model', 'kilometer', 'monthOfRegistration', 'notRepairedDamage', 'postalCode']\n",
    "\n",
    "\n",
    "plt.figure(figsize=(15, 8))\n",
    "df_new[numeric_cols].boxplot()\n",
    "plt.title('BoxPlot до удаления выбросов')\n",
    "plt.show()"
   ]
  },
  {
   "cell_type": "code",
   "execution_count": 733,
   "id": "512a31f0",
   "metadata": {},
   "outputs": [
    {
     "data": {
      "text/html": [
       "<div>\n",
       "<style scoped>\n",
       "    .dataframe tbody tr th:only-of-type {\n",
       "        vertical-align: middle;\n",
       "    }\n",
       "\n",
       "    .dataframe tbody tr th {\n",
       "        vertical-align: top;\n",
       "    }\n",
       "\n",
       "    .dataframe thead th {\n",
       "        text-align: right;\n",
       "    }\n",
       "</style>\n",
       "<table border=\"1\" class=\"dataframe\">\n",
       "  <thead>\n",
       "    <tr style=\"text-align: right;\">\n",
       "      <th></th>\n",
       "      <th>dateCrawled</th>\n",
       "      <th>name</th>\n",
       "      <th>seller</th>\n",
       "      <th>offerType</th>\n",
       "      <th>price</th>\n",
       "      <th>abtest</th>\n",
       "      <th>vehicleType</th>\n",
       "      <th>yearOfRegistration</th>\n",
       "      <th>gearbox</th>\n",
       "      <th>powerPS</th>\n",
       "      <th>model</th>\n",
       "      <th>kilometer</th>\n",
       "      <th>monthOfRegistration</th>\n",
       "      <th>fuelType</th>\n",
       "      <th>brand</th>\n",
       "      <th>notRepairedDamage</th>\n",
       "      <th>dateCreated</th>\n",
       "      <th>postalCode</th>\n",
       "      <th>lastSeen</th>\n",
       "    </tr>\n",
       "  </thead>\n",
       "  <tbody>\n",
       "    <tr>\n",
       "      <th>2</th>\n",
       "      <td>2016-03-14 12:52:21</td>\n",
       "      <td>Jeep_Grand_Cherokee_\"Overland\"</td>\n",
       "      <td>privat</td>\n",
       "      <td>Angebot</td>\n",
       "      <td>9800</td>\n",
       "      <td>test</td>\n",
       "      <td>suv</td>\n",
       "      <td>2004</td>\n",
       "      <td>1.0</td>\n",
       "      <td>163</td>\n",
       "      <td>grand</td>\n",
       "      <td>125000</td>\n",
       "      <td>8</td>\n",
       "      <td>diesel</td>\n",
       "      <td>jeep</td>\n",
       "      <td>0</td>\n",
       "      <td>2016-03-14 00:00:00</td>\n",
       "      <td>90480</td>\n",
       "      <td>2016-04-05 12:47:46</td>\n",
       "    </tr>\n",
       "    <tr>\n",
       "      <th>3</th>\n",
       "      <td>2016-03-17 16:54:04</td>\n",
       "      <td>GOLF_4_1_4__3TÜRER</td>\n",
       "      <td>privat</td>\n",
       "      <td>Angebot</td>\n",
       "      <td>1500</td>\n",
       "      <td>test</td>\n",
       "      <td>kleinwagen</td>\n",
       "      <td>2001</td>\n",
       "      <td>-1.0</td>\n",
       "      <td>75</td>\n",
       "      <td>golf</td>\n",
       "      <td>150000</td>\n",
       "      <td>6</td>\n",
       "      <td>benzin</td>\n",
       "      <td>volkswagen</td>\n",
       "      <td>1</td>\n",
       "      <td>2016-03-17 00:00:00</td>\n",
       "      <td>91074</td>\n",
       "      <td>2016-03-17 17:40:17</td>\n",
       "    </tr>\n",
       "    <tr>\n",
       "      <th>4</th>\n",
       "      <td>2016-03-31 17:25:20</td>\n",
       "      <td>Skoda_Fabia_1.4_TDI_PD_Classic</td>\n",
       "      <td>privat</td>\n",
       "      <td>Angebot</td>\n",
       "      <td>3600</td>\n",
       "      <td>test</td>\n",
       "      <td>kleinwagen</td>\n",
       "      <td>2008</td>\n",
       "      <td>-1.0</td>\n",
       "      <td>69</td>\n",
       "      <td>fabia</td>\n",
       "      <td>90000</td>\n",
       "      <td>7</td>\n",
       "      <td>diesel</td>\n",
       "      <td>skoda</td>\n",
       "      <td>1</td>\n",
       "      <td>2016-03-31 00:00:00</td>\n",
       "      <td>60437</td>\n",
       "      <td>2016-04-06 10:17:21</td>\n",
       "    </tr>\n",
       "    <tr>\n",
       "      <th>5</th>\n",
       "      <td>2016-04-04 17:36:23</td>\n",
       "      <td>BMW_316i___e36_Limousine___Bastlerfahrzeug__Ex...</td>\n",
       "      <td>privat</td>\n",
       "      <td>Angebot</td>\n",
       "      <td>650</td>\n",
       "      <td>test</td>\n",
       "      <td>limousine</td>\n",
       "      <td>1995</td>\n",
       "      <td>-1.0</td>\n",
       "      <td>102</td>\n",
       "      <td>3er</td>\n",
       "      <td>150000</td>\n",
       "      <td>10</td>\n",
       "      <td>benzin</td>\n",
       "      <td>bmw</td>\n",
       "      <td>-1</td>\n",
       "      <td>2016-04-04 00:00:00</td>\n",
       "      <td>33775</td>\n",
       "      <td>2016-04-06 19:17:07</td>\n",
       "    </tr>\n",
       "    <tr>\n",
       "      <th>6</th>\n",
       "      <td>2016-04-01 20:48:51</td>\n",
       "      <td>Peugeot_206_CC_110_Platinum</td>\n",
       "      <td>privat</td>\n",
       "      <td>Angebot</td>\n",
       "      <td>2200</td>\n",
       "      <td>test</td>\n",
       "      <td>cabrio</td>\n",
       "      <td>2004</td>\n",
       "      <td>-1.0</td>\n",
       "      <td>109</td>\n",
       "      <td>2_reihe</td>\n",
       "      <td>150000</td>\n",
       "      <td>8</td>\n",
       "      <td>benzin</td>\n",
       "      <td>peugeot</td>\n",
       "      <td>1</td>\n",
       "      <td>2016-04-01 00:00:00</td>\n",
       "      <td>67112</td>\n",
       "      <td>2016-04-05 18:18:39</td>\n",
       "    </tr>\n",
       "  </tbody>\n",
       "</table>\n",
       "</div>"
      ],
      "text/plain": [
       "           dateCrawled                                               name  \\\n",
       "2  2016-03-14 12:52:21                     Jeep_Grand_Cherokee_\"Overland\"   \n",
       "3  2016-03-17 16:54:04                                 GOLF_4_1_4__3TÜRER   \n",
       "4  2016-03-31 17:25:20                     Skoda_Fabia_1.4_TDI_PD_Classic   \n",
       "5  2016-04-04 17:36:23  BMW_316i___e36_Limousine___Bastlerfahrzeug__Ex...   \n",
       "6  2016-04-01 20:48:51                        Peugeot_206_CC_110_Platinum   \n",
       "\n",
       "   seller offerType  price abtest vehicleType  yearOfRegistration  gearbox  \\\n",
       "2  privat   Angebot   9800   test         suv                2004      1.0   \n",
       "3  privat   Angebot   1500   test  kleinwagen                2001     -1.0   \n",
       "4  privat   Angebot   3600   test  kleinwagen                2008     -1.0   \n",
       "5  privat   Angebot    650   test   limousine                1995     -1.0   \n",
       "6  privat   Angebot   2200   test      cabrio                2004     -1.0   \n",
       "\n",
       "   powerPS    model  kilometer  monthOfRegistration fuelType       brand  \\\n",
       "2      163    grand     125000                    8   diesel        jeep   \n",
       "3       75     golf     150000                    6   benzin  volkswagen   \n",
       "4       69    fabia      90000                    7   diesel       skoda   \n",
       "5      102      3er     150000                   10   benzin         bmw   \n",
       "6      109  2_reihe     150000                    8   benzin     peugeot   \n",
       "\n",
       "   notRepairedDamage          dateCreated  postalCode             lastSeen  \n",
       "2                  0  2016-03-14 00:00:00       90480  2016-04-05 12:47:46  \n",
       "3                  1  2016-03-17 00:00:00       91074  2016-03-17 17:40:17  \n",
       "4                  1  2016-03-31 00:00:00       60437  2016-04-06 10:17:21  \n",
       "5                 -1  2016-04-04 00:00:00       33775  2016-04-06 19:17:07  \n",
       "6                  1  2016-04-01 00:00:00       67112  2016-04-05 18:18:39  "
      ]
     },
     "execution_count": 733,
     "metadata": {},
     "output_type": "execute_result"
    }
   ],
   "source": [
    "df_new.head()"
   ]
  },
  {
   "cell_type": "markdown",
   "id": "da83937f",
   "metadata": {},
   "source": [
    "Уже неплохо. Удалять выбросы в колонке kilometer смысла нет, потому что машины могут продавать как через 10 лет после покупки (много тысяч километров пробег), так и через пару месяцев после покупки (максимум пару десятков тысяч километров)"
   ]
  },
  {
   "cell_type": "code",
   "execution_count": 734,
   "id": "5a239511",
   "metadata": {},
   "outputs": [],
   "source": [
    "def remove_outliers(df, column):\n",
    "    Q1 = df[column].quantile(0.25)\n",
    "    Q3 = df[column].quantile(0.75)\n",
    "    IQR = Q3 - Q1\n",
    "    lower_bound = Q1 - 1.5 * IQR\n",
    "    upper_bound = Q3 + 1.5 * IQR\n",
    "    \n",
    "    return df[(df[column] >= lower_bound) & (df[column] <= upper_bound)]"
   ]
  },
  {
   "cell_type": "code",
   "execution_count": 784,
   "id": "4ec59a49",
   "metadata": {},
   "outputs": [],
   "source": [
    "# применяем на всё, кроме kilometer\n",
    "clean_data = df_new.copy()\n",
    "\n",
    "numeric_cols = [col for col in df_new.select_dtypes(include=[np.number]).columns \n",
    "               if col not in ['kilometer', 'gearbox']]\n",
    "\n",
    "for column in numeric_cols:\n",
    "    clean_data = remove_outliers(clean_data, column)"
   ]
  },
  {
   "cell_type": "code",
   "execution_count": 785,
   "id": "406869d9",
   "metadata": {},
   "outputs": [
    {
     "data": {
      "text/html": [
       "<div>\n",
       "<style scoped>\n",
       "    .dataframe tbody tr th:only-of-type {\n",
       "        vertical-align: middle;\n",
       "    }\n",
       "\n",
       "    .dataframe tbody tr th {\n",
       "        vertical-align: top;\n",
       "    }\n",
       "\n",
       "    .dataframe thead th {\n",
       "        text-align: right;\n",
       "    }\n",
       "</style>\n",
       "<table border=\"1\" class=\"dataframe\">\n",
       "  <thead>\n",
       "    <tr style=\"text-align: right;\">\n",
       "      <th></th>\n",
       "      <th>dateCrawled</th>\n",
       "      <th>name</th>\n",
       "      <th>seller</th>\n",
       "      <th>offerType</th>\n",
       "      <th>price</th>\n",
       "      <th>abtest</th>\n",
       "      <th>vehicleType</th>\n",
       "      <th>yearOfRegistration</th>\n",
       "      <th>gearbox</th>\n",
       "      <th>powerPS</th>\n",
       "      <th>model</th>\n",
       "      <th>kilometer</th>\n",
       "      <th>monthOfRegistration</th>\n",
       "      <th>fuelType</th>\n",
       "      <th>brand</th>\n",
       "      <th>notRepairedDamage</th>\n",
       "      <th>dateCreated</th>\n",
       "      <th>postalCode</th>\n",
       "      <th>lastSeen</th>\n",
       "    </tr>\n",
       "  </thead>\n",
       "  <tbody>\n",
       "    <tr>\n",
       "      <th>2</th>\n",
       "      <td>2016-03-14 12:52:21</td>\n",
       "      <td>Jeep_Grand_Cherokee_\"Overland\"</td>\n",
       "      <td>privat</td>\n",
       "      <td>Angebot</td>\n",
       "      <td>9800</td>\n",
       "      <td>test</td>\n",
       "      <td>suv</td>\n",
       "      <td>2004</td>\n",
       "      <td>1.0</td>\n",
       "      <td>163</td>\n",
       "      <td>grand</td>\n",
       "      <td>125000</td>\n",
       "      <td>8</td>\n",
       "      <td>diesel</td>\n",
       "      <td>jeep</td>\n",
       "      <td>0</td>\n",
       "      <td>2016-03-14 00:00:00</td>\n",
       "      <td>90480</td>\n",
       "      <td>2016-04-05 12:47:46</td>\n",
       "    </tr>\n",
       "    <tr>\n",
       "      <th>3</th>\n",
       "      <td>2016-03-17 16:54:04</td>\n",
       "      <td>GOLF_4_1_4__3TÜRER</td>\n",
       "      <td>privat</td>\n",
       "      <td>Angebot</td>\n",
       "      <td>1500</td>\n",
       "      <td>test</td>\n",
       "      <td>kleinwagen</td>\n",
       "      <td>2001</td>\n",
       "      <td>-1.0</td>\n",
       "      <td>75</td>\n",
       "      <td>golf</td>\n",
       "      <td>150000</td>\n",
       "      <td>6</td>\n",
       "      <td>benzin</td>\n",
       "      <td>volkswagen</td>\n",
       "      <td>1</td>\n",
       "      <td>2016-03-17 00:00:00</td>\n",
       "      <td>91074</td>\n",
       "      <td>2016-03-17 17:40:17</td>\n",
       "    </tr>\n",
       "    <tr>\n",
       "      <th>4</th>\n",
       "      <td>2016-03-31 17:25:20</td>\n",
       "      <td>Skoda_Fabia_1.4_TDI_PD_Classic</td>\n",
       "      <td>privat</td>\n",
       "      <td>Angebot</td>\n",
       "      <td>3600</td>\n",
       "      <td>test</td>\n",
       "      <td>kleinwagen</td>\n",
       "      <td>2008</td>\n",
       "      <td>-1.0</td>\n",
       "      <td>69</td>\n",
       "      <td>fabia</td>\n",
       "      <td>90000</td>\n",
       "      <td>7</td>\n",
       "      <td>diesel</td>\n",
       "      <td>skoda</td>\n",
       "      <td>1</td>\n",
       "      <td>2016-03-31 00:00:00</td>\n",
       "      <td>60437</td>\n",
       "      <td>2016-04-06 10:17:21</td>\n",
       "    </tr>\n",
       "    <tr>\n",
       "      <th>5</th>\n",
       "      <td>2016-04-04 17:36:23</td>\n",
       "      <td>BMW_316i___e36_Limousine___Bastlerfahrzeug__Ex...</td>\n",
       "      <td>privat</td>\n",
       "      <td>Angebot</td>\n",
       "      <td>650</td>\n",
       "      <td>test</td>\n",
       "      <td>limousine</td>\n",
       "      <td>1995</td>\n",
       "      <td>-1.0</td>\n",
       "      <td>102</td>\n",
       "      <td>3er</td>\n",
       "      <td>150000</td>\n",
       "      <td>10</td>\n",
       "      <td>benzin</td>\n",
       "      <td>bmw</td>\n",
       "      <td>-1</td>\n",
       "      <td>2016-04-04 00:00:00</td>\n",
       "      <td>33775</td>\n",
       "      <td>2016-04-06 19:17:07</td>\n",
       "    </tr>\n",
       "    <tr>\n",
       "      <th>6</th>\n",
       "      <td>2016-04-01 20:48:51</td>\n",
       "      <td>Peugeot_206_CC_110_Platinum</td>\n",
       "      <td>privat</td>\n",
       "      <td>Angebot</td>\n",
       "      <td>2200</td>\n",
       "      <td>test</td>\n",
       "      <td>cabrio</td>\n",
       "      <td>2004</td>\n",
       "      <td>-1.0</td>\n",
       "      <td>109</td>\n",
       "      <td>2_reihe</td>\n",
       "      <td>150000</td>\n",
       "      <td>8</td>\n",
       "      <td>benzin</td>\n",
       "      <td>peugeot</td>\n",
       "      <td>1</td>\n",
       "      <td>2016-04-01 00:00:00</td>\n",
       "      <td>67112</td>\n",
       "      <td>2016-04-05 18:18:39</td>\n",
       "    </tr>\n",
       "  </tbody>\n",
       "</table>\n",
       "</div>"
      ],
      "text/plain": [
       "           dateCrawled                                               name  \\\n",
       "2  2016-03-14 12:52:21                     Jeep_Grand_Cherokee_\"Overland\"   \n",
       "3  2016-03-17 16:54:04                                 GOLF_4_1_4__3TÜRER   \n",
       "4  2016-03-31 17:25:20                     Skoda_Fabia_1.4_TDI_PD_Classic   \n",
       "5  2016-04-04 17:36:23  BMW_316i___e36_Limousine___Bastlerfahrzeug__Ex...   \n",
       "6  2016-04-01 20:48:51                        Peugeot_206_CC_110_Platinum   \n",
       "\n",
       "   seller offerType  price abtest vehicleType  yearOfRegistration  gearbox  \\\n",
       "2  privat   Angebot   9800   test         suv                2004      1.0   \n",
       "3  privat   Angebot   1500   test  kleinwagen                2001     -1.0   \n",
       "4  privat   Angebot   3600   test  kleinwagen                2008     -1.0   \n",
       "5  privat   Angebot    650   test   limousine                1995     -1.0   \n",
       "6  privat   Angebot   2200   test      cabrio                2004     -1.0   \n",
       "\n",
       "   powerPS    model  kilometer  monthOfRegistration fuelType       brand  \\\n",
       "2      163    grand     125000                    8   diesel        jeep   \n",
       "3       75     golf     150000                    6   benzin  volkswagen   \n",
       "4       69    fabia      90000                    7   diesel       skoda   \n",
       "5      102      3er     150000                   10   benzin         bmw   \n",
       "6      109  2_reihe     150000                    8   benzin     peugeot   \n",
       "\n",
       "   notRepairedDamage          dateCreated  postalCode             lastSeen  \n",
       "2                  0  2016-03-14 00:00:00       90480  2016-04-05 12:47:46  \n",
       "3                  1  2016-03-17 00:00:00       91074  2016-03-17 17:40:17  \n",
       "4                  1  2016-03-31 00:00:00       60437  2016-04-06 10:17:21  \n",
       "5                 -1  2016-04-04 00:00:00       33775  2016-04-06 19:17:07  \n",
       "6                  1  2016-04-01 00:00:00       67112  2016-04-05 18:18:39  "
      ]
     },
     "execution_count": 785,
     "metadata": {},
     "output_type": "execute_result"
    }
   ],
   "source": [
    "df_new.head()"
   ]
  },
  {
   "cell_type": "code",
   "execution_count": 788,
   "id": "331d53c0",
   "metadata": {},
   "outputs": [
    {
     "data": {
      "text/plain": [
       "array([-1.,  1.])"
      ]
     },
     "execution_count": 788,
     "metadata": {},
     "output_type": "execute_result"
    }
   ],
   "source": [
    "clean_data['gearbox'].unique()"
   ]
  },
  {
   "cell_type": "code",
   "execution_count": null,
   "id": "613dad75",
   "metadata": {},
   "outputs": [
    {
     "data": {
      "text/plain": [
       "array([-1.])"
      ]
     },
     "execution_count": 778,
     "metadata": {},
     "output_type": "execute_result"
    }
   ],
   "source": []
  },
  {
   "cell_type": "code",
   "execution_count": 789,
   "id": "68d12395",
   "metadata": {},
   "outputs": [
    {
     "data": {
      "image/png": "[encoded data removed]",
      "text/plain": [
       "<Figure size 1500x800 with 1 Axes>"
      ]
     },
     "metadata": {},
     "output_type": "display_data"
    }
   ],
   "source": [
    "numeric_cols = [col for col in df_new.select_dtypes(include=[np.number]).columns]\n",
    "\n",
    "\n",
    "plt.figure(figsize=(15, 8))\n",
    "clean_data[numeric_cols].boxplot()\n",
    "plt.title('BoxPlot после удаления выбросов')\n",
    "plt.show()"
   ]
  },
  {
   "cell_type": "markdown",
   "id": "4dd81b00",
   "metadata": {},
   "source": [
    "**Задание 5.**\tОцените корреляцию между числовыми признаками, постройте матрицу корреляции. Найдите признаки, которые коррелируют с наибольшим числом других и выпишите их >|0.5| (все кроме целевой колонки)."
   ]
  },
  {
   "cell_type": "code",
   "execution_count": 790,
   "id": "df64a875",
   "metadata": {},
   "outputs": [
    {
     "data": {
      "image/png": "[encoded data removed]",
      "text/plain": [
       "<Figure size 1000x800 with 2 Axes>"
      ]
     },
     "metadata": {},
     "output_type": "display_data"
    }
   ],
   "source": [
    "df_corr = clean_data[numeric_cols]\n",
    "corr_matrix = df_corr.corr()\n",
    "\n",
    "\n",
    "plt.figure(figsize=(10, 8))\n",
    "sns.heatmap(\n",
    "    corr_matrix,\n",
    "    annot=True,     \n",
    "    fmt=\".2f\",      \n",
    "    cmap=\"Oranges\",   \n",
    "    linewidths=0.5  \n",
    ")\n",
    "plt.title(\"Матрица корреляции числовых признаков\")\n",
    "plt.show()"
   ]
  },
  {
   "cell_type": "markdown",
   "id": "19c2a944",
   "metadata": {},
   "source": [
    "Из матрицы корреляции видно, что есть две колонки, которые коррелируют с большим числом други (не считаю целевую). Это колонки yearOfRegistration и powerPS"
   ]
  },
  {
   "cell_type": "markdown",
   "id": "2f60aa46",
   "metadata": {},
   "source": [
    "Описание корреляций: price и yearOfRegistration: 0.7. Чем новее автомобиль, тем выше его цена. Это логично, тк новые машины обычно дороже.                         price и powerPS: 0.40. Более мощные автомобили стоят дороже.                    price и kilometer: -0.4. Чем больше пробег, тем ниже цена - логично                    price и notRepairedDamage: -0.2. Если в автомобиле есть неисправности, то это снижает цену.                    monthOfRegistration и postalCode почти не коррелируют с другими признаками. Это тоже логично! Месяц регистрации не так важен, как год, а почтовый индекс вообще никому не нужен. Поэтому эти колонки можно смело удалять"
   ]
  },
  {
   "cell_type": "code",
   "execution_count": 791,
   "id": "aeaa863d",
   "metadata": {},
   "outputs": [],
   "source": [
    "cols_to_drop = ['monthOfRegistration', 'postalCode']\n",
    "clean_data = clean_data.drop(cols_to_drop, axis=1)"
   ]
  },
  {
   "cell_type": "markdown",
   "id": "de846ae6",
   "metadata": {},
   "source": [
    "**Задание 6.**\tПроанализируйте колонки на наличие нулевых значений. Выведите количество нулевых по каждой колонке."
   ]
  },
  {
   "cell_type": "code",
   "execution_count": 792,
   "id": "be1aa4fe",
   "metadata": {},
   "outputs": [
    {
     "name": "stdout",
     "output_type": "stream",
     "text": [
      "Количество нулевых значение по колонкам:\n"
     ]
    },
    {
     "data": {
      "text/plain": [
       "dateCrawled           0\n",
       "name                  0\n",
       "seller                0\n",
       "offerType             0\n",
       "price                 0\n",
       "abtest                0\n",
       "vehicleType           0\n",
       "yearOfRegistration    0\n",
       "gearbox               0\n",
       "powerPS               0\n",
       "model                 0\n",
       "kilometer             0\n",
       "fuelType              0\n",
       "brand                 0\n",
       "notRepairedDamage     0\n",
       "dateCreated           0\n",
       "lastSeen              0\n",
       "dtype: int64"
      ]
     },
     "execution_count": 792,
     "metadata": {},
     "output_type": "execute_result"
    }
   ],
   "source": [
    "null_counts = clean_data.isnull().sum()\n",
    "print(f'Количество нулевых значение по колонкам:')\n",
    "null_counts"
   ]
  },
  {
   "cell_type": "markdown",
   "id": "8ccebb1f",
   "metadata": {},
   "source": [
    "В процессе предобработки данных все нулевые значения были удалены или заменены"
   ]
  },
  {
   "cell_type": "markdown",
   "id": "8ef68bd1",
   "metadata": {},
   "source": [
    "**Задание 7.**\tПроанализируйте почему в той или иной колонке могут присутствовать нулевые значения."
   ]
  },
  {
   "cell_type": "markdown",
   "id": "a9496ff7",
   "metadata": {},
   "source": [
    "Было очень много нулевых значений в колонке price. Это можно объяснить тем, что при процессе продажи продавцы договариваются с покупателем о каких-то условиях и, чтобы формально сделка состоялась, прибегают к сильному снижению цен. Иногда даже до нуля. (Предположил на основе того, что зна. и видел на авито). Также иногда производится обмен автомбилями, что и означает нулевую цену."
   ]
  },
  {
   "cell_type": "markdown",
   "id": "cd7f44b1",
   "metadata": {},
   "source": [
    "**Задание 8.**\tВыполните удаление столбцов с большим количеством нулевых значений, где это возможно, используйте Imputers для числовых колонок."
   ]
  },
  {
   "cell_type": "markdown",
   "id": "80bf5eeb",
   "metadata": {},
   "source": [
    "Уже выполнено"
   ]
  },
  {
   "cell_type": "markdown",
   "id": "ea382117",
   "metadata": {},
   "source": [
    "**Задание 9.**\tВыполните масштабирование количественных (числовых) признаков: "
   ]
  },
  {
   "cell_type": "markdown",
   "id": "7c365d47",
   "metadata": {},
   "source": [
    "a.\tПостройте диаграммы BoxPlot для признаков до масштабирования. "
   ]
  },
  {
   "cell_type": "code",
   "execution_count": 793,
   "id": "f0974caf",
   "metadata": {},
   "outputs": [
    {
     "data": {
      "image/png": "[encoded data removed]",
      "text/plain": [
       "<Figure size 640x480 with 1 Axes>"
      ]
     },
     "metadata": {},
     "output_type": "display_data"
    }
   ],
   "source": [
    "numeric_cols = ['price', 'yearOfRegistration', 'gearbox', 'powerPS', 'kilometer', 'notRepairedDamage']\n",
    "\n",
    "clean_data.boxplot(column=numeric_cols)\n",
    "plt.title('Boxplot для признаков до масштабирования')\n",
    "plt.ylabel('колонка')\n",
    "plt.xlabel('значение')\n",
    "plt.xticks(rotation=45)\n",
    "\n",
    "plt.show()"
   ]
  },
  {
   "cell_type": "markdown",
   "id": "49ebfc6d",
   "metadata": {},
   "source": [
    "Построим ещё один график, но без kilometer и price, чтобы посмотреть на остальные фичи"
   ]
  },
  {
   "cell_type": "code",
   "execution_count": 794,
   "id": "4c71a187",
   "metadata": {},
   "outputs": [
    {
     "data": {
      "image/png": "[encoded data removed]",
      "text/plain": [
       "<Figure size 640x480 with 1 Axes>"
      ]
     },
     "metadata": {},
     "output_type": "display_data"
    }
   ],
   "source": [
    "numeric_cols = ['yearOfRegistration', 'gearbox', 'powerPS', 'notRepairedDamage']\n",
    "\n",
    "clean_data.boxplot(column=numeric_cols)\n",
    "plt.title('Boxplot для признаков до масштабирования')\n",
    "plt.ylabel('колонка')\n",
    "plt.xlabel('значение')\n",
    "plt.xticks(rotation=45)\n",
    "\n",
    "plt.show()"
   ]
  },
  {
   "cell_type": "markdown",
   "id": "82d135fb",
   "metadata": {},
   "source": [
    "b.\tВыберите способ масштабирования (например, нормализацию или стандартизацию MinMaxScaler, StandardScaler)"
   ]
  },
  {
   "cell_type": "markdown",
   "id": "7fc15c07",
   "metadata": {},
   "source": [
    "Для выбранного варианта в задании написано, что позже нужно будет использовать классификаторы Lasso и Ridge. Поэтому наилучший вариант масштабирования - StandardScaler. Почему? потому что регуляризация зависит от масштаба признаков. Оба классификатора чувствительны к масштабу признаков: признаки с большим диапазоном значний получат ноправданно большоие или маленькие коэффициенты. На категориальные признаки лучше будет накинуть OHE, потому что данные будут уже в нужном масштабе (1 и 0)"
   ]
  },
  {
   "cell_type": "markdown",
   "id": "9736c467",
   "metadata": {},
   "source": [
    "c.\tВыполните масштабирование выбранным методом"
   ]
  },
  {
   "cell_type": "code",
   "execution_count": 795,
   "id": "4eed5e9c",
   "metadata": {},
   "outputs": [],
   "source": [
    "from sklearn.preprocessing import StandardScaler\n",
    "\n",
    "\n",
    "numeric_cols = clean_data.select_dtypes(include=['int64', 'float64']).columns\n",
    "numeric_cols = numeric_cols.drop('price')  # потому что price - целевая колонка. Её не нужно стандартизировать.\n",
    "numeric_cols = numeric_cols.drop('notRepairedDamage')\n",
    "numeric_cols = numeric_cols.drop('gearbox')\n",
    "y = clean_data['price']\n",
    "\n",
    "scaler = StandardScaler()\n",
    "clean_data[numeric_cols] = scaler.fit_transform(clean_data[numeric_cols])"
   ]
  },
  {
   "cell_type": "markdown",
   "id": "a31a9ba3",
   "metadata": {},
   "source": [
    "d.\tПостройте диаграммы BoxPlot для признаков после масштабирования. "
   ]
  },
  {
   "cell_type": "code",
   "execution_count": 796,
   "id": "81aff35d",
   "metadata": {},
   "outputs": [
    {
     "data": {
      "image/png": "[encoded data removed]",
      "text/plain": [
       "<Figure size 640x480 with 1 Axes>"
      ]
     },
     "metadata": {},
     "output_type": "display_data"
    }
   ],
   "source": [
    "# целевуюю колонку убираем, потому что на неё не был накинут скалер\n",
    "numeric_cols = ['yearOfRegistration', 'gearbox', 'powerPS', 'kilometer', 'notRepairedDamage']\n",
    "\n",
    "clean_data.boxplot(column=numeric_cols)\n",
    "plt.title('Boxplot для признаков после масштабирования')\n",
    "plt.ylabel('колонка')\n",
    "plt.xlabel('значение')\n",
    "plt.xticks(rotation=45)\n",
    "\n",
    "plt.show()"
   ]
  },
  {
   "cell_type": "code",
   "execution_count": 797,
   "id": "7249f786",
   "metadata": {},
   "outputs": [
    {
     "data": {
      "text/plain": [
       "3         1\n",
       "4         1\n",
       "6         1\n",
       "10        1\n",
       "17        1\n",
       "         ..\n",
       "371517    1\n",
       "371518    1\n",
       "371521    1\n",
       "371524    1\n",
       "371525    1\n",
       "Name: notRepairedDamage, Length: 189618, dtype: int64"
      ]
     },
     "execution_count": 797,
     "metadata": {},
     "output_type": "execute_result"
    }
   ],
   "source": [
    "# заменим выброс noRepairedDamage. В колонке может быть всего 2 значени - 0 и 1. Другое - это NaN значение. Заменю его на -1\n",
    "clean_data['notRepairedDamage']"
   ]
  },
  {
   "cell_type": "markdown",
   "id": "3c12c5cd",
   "metadata": {},
   "source": [
    "**Задание 10.**\tВыполните замену категориальных признаков; выберите и обоснуйте способ замены (one hot encoder, label encoder);"
   ]
  },
  {
   "cell_type": "markdown",
   "id": "01e11f2f",
   "metadata": {},
   "source": [
    "Как уже было сказано выше, лучше использовать OHE"
   ]
  },
  {
   "cell_type": "code",
   "execution_count": 798,
   "id": "cd6cf2be",
   "metadata": {},
   "outputs": [],
   "source": [
    "cols_to_drop = ['lastSeen', 'dateCreated', 'dateCrawled']\n",
    "clean_data = clean_data.drop(cols_to_drop, axis=1)"
   ]
  },
  {
   "cell_type": "code",
   "execution_count": 799,
   "id": "1a8eae33",
   "metadata": {},
   "outputs": [
    {
     "name": "stderr",
     "output_type": "stream",
     "text": [
      "C:\\Users\\1\\AppData\\Local\\Temp\\ipykernel_12184\\198896537.py:1: FutureWarning: Downcasting behavior in `replace` is deprecated and will be removed in a future version. To retain the old behavior, explicitly call `result.infer_objects(copy=False)`. To opt-in to the future behavior, set `pd.set_option('future.no_silent_downcasting', True)`\n",
      "  clean_data['seller'] = clean_data['seller'].replace({'privat': 1, 'gewerblich': 0})\n"
     ]
    }
   ],
   "source": [
    "clean_data['seller'] = clean_data['seller'].replace({'privat': 1, 'gewerblich': 0})\n",
    "clean_data = clean_data.rename(columns={'seller': 'is_privat'})\n",
    "\n",
    "# также было замечено, что большая часть колонки seller = privat. Других значений всего 5. Это делает данную колонку бесполезной"
   ]
  },
  {
   "cell_type": "code",
   "execution_count": 800,
   "id": "4253780c",
   "metadata": {},
   "outputs": [],
   "source": [
    "clean_data = clean_data.drop('is_privat', axis=1)"
   ]
  },
  {
   "cell_type": "code",
   "execution_count": 801,
   "id": "1a201c3b",
   "metadata": {},
   "outputs": [
    {
     "data": {
      "text/plain": [
       "array(['kleinwagen', 'cabrio', 'limousine', 'bus', 'coupe', 'andere',\n",
       "       'kombi', 'suv'], dtype=object)"
      ]
     },
     "execution_count": 801,
     "metadata": {},
     "output_type": "execute_result"
    }
   ],
   "source": [
    "clean_data['vehicleType'].unique()\n",
    "# К этой колонке применим OHE"
   ]
  },
  {
   "cell_type": "code",
   "execution_count": 802,
   "id": "763194c8",
   "metadata": {},
   "outputs": [
    {
     "data": {
      "text/html": [
       "<div>\n",
       "<style scoped>\n",
       "    .dataframe tbody tr th:only-of-type {\n",
       "        vertical-align: middle;\n",
       "    }\n",
       "\n",
       "    .dataframe tbody tr th {\n",
       "        vertical-align: top;\n",
       "    }\n",
       "\n",
       "    .dataframe thead th {\n",
       "        text-align: right;\n",
       "    }\n",
       "</style>\n",
       "<table border=\"1\" class=\"dataframe\">\n",
       "  <thead>\n",
       "    <tr style=\"text-align: right;\">\n",
       "      <th></th>\n",
       "      <th>name</th>\n",
       "      <th>offerType</th>\n",
       "      <th>price</th>\n",
       "      <th>abtest</th>\n",
       "      <th>yearOfRegistration</th>\n",
       "      <th>gearbox</th>\n",
       "      <th>powerPS</th>\n",
       "      <th>model</th>\n",
       "      <th>kilometer</th>\n",
       "      <th>fuelType</th>\n",
       "      <th>brand</th>\n",
       "      <th>notRepairedDamage</th>\n",
       "      <th>vehicleType_andere</th>\n",
       "      <th>vehicleType_bus</th>\n",
       "      <th>vehicleType_cabrio</th>\n",
       "      <th>vehicleType_coupe</th>\n",
       "      <th>vehicleType_kleinwagen</th>\n",
       "      <th>vehicleType_kombi</th>\n",
       "      <th>vehicleType_limousine</th>\n",
       "      <th>vehicleType_suv</th>\n",
       "    </tr>\n",
       "  </thead>\n",
       "  <tbody>\n",
       "    <tr>\n",
       "      <th>3</th>\n",
       "      <td>GOLF_4_1_4__3TÜRER</td>\n",
       "      <td>Angebot</td>\n",
       "      <td>1500.0</td>\n",
       "      <td>test</td>\n",
       "      <td>-0.393648</td>\n",
       "      <td>-1.0</td>\n",
       "      <td>-0.756832</td>\n",
       "      <td>golf</td>\n",
       "      <td>0.586671</td>\n",
       "      <td>benzin</td>\n",
       "      <td>volkswagen</td>\n",
       "      <td>1.0</td>\n",
       "      <td>0.0</td>\n",
       "      <td>0.0</td>\n",
       "      <td>0.0</td>\n",
       "      <td>0.0</td>\n",
       "      <td>0.0</td>\n",
       "      <td>0.0</td>\n",
       "      <td>1.0</td>\n",
       "      <td>0.0</td>\n",
       "    </tr>\n",
       "    <tr>\n",
       "      <th>4</th>\n",
       "      <td>Skoda_Fabia_1.4_TDI_PD_Classic</td>\n",
       "      <td>Angebot</td>\n",
       "      <td>3600.0</td>\n",
       "      <td>test</td>\n",
       "      <td>0.996818</td>\n",
       "      <td>-1.0</td>\n",
       "      <td>-0.884237</td>\n",
       "      <td>fabia</td>\n",
       "      <td>-1.137860</td>\n",
       "      <td>diesel</td>\n",
       "      <td>skoda</td>\n",
       "      <td>1.0</td>\n",
       "      <td>0.0</td>\n",
       "      <td>0.0</td>\n",
       "      <td>0.0</td>\n",
       "      <td>0.0</td>\n",
       "      <td>1.0</td>\n",
       "      <td>0.0</td>\n",
       "      <td>0.0</td>\n",
       "      <td>0.0</td>\n",
       "    </tr>\n",
       "    <tr>\n",
       "      <th>6</th>\n",
       "      <td>Peugeot_206_CC_110_Platinum</td>\n",
       "      <td>Angebot</td>\n",
       "      <td>2200.0</td>\n",
       "      <td>test</td>\n",
       "      <td>0.202266</td>\n",
       "      <td>-1.0</td>\n",
       "      <td>-0.034866</td>\n",
       "      <td>2_reihe</td>\n",
       "      <td>0.586671</td>\n",
       "      <td>benzin</td>\n",
       "      <td>peugeot</td>\n",
       "      <td>1.0</td>\n",
       "      <td>0.0</td>\n",
       "      <td>1.0</td>\n",
       "      <td>0.0</td>\n",
       "      <td>0.0</td>\n",
       "      <td>0.0</td>\n",
       "      <td>0.0</td>\n",
       "      <td>0.0</td>\n",
       "      <td>0.0</td>\n",
       "    </tr>\n",
       "    <tr>\n",
       "      <th>10</th>\n",
       "      <td>Mazda_3_1.6_Sport</td>\n",
       "      <td>Angebot</td>\n",
       "      <td>2000.0</td>\n",
       "      <td>control</td>\n",
       "      <td>0.202266</td>\n",
       "      <td>-1.0</td>\n",
       "      <td>-0.119803</td>\n",
       "      <td>3_reihe</td>\n",
       "      <td>0.586671</td>\n",
       "      <td>benzin</td>\n",
       "      <td>mazda</td>\n",
       "      <td>1.0</td>\n",
       "      <td>0.0</td>\n",
       "      <td>0.0</td>\n",
       "      <td>0.0</td>\n",
       "      <td>0.0</td>\n",
       "      <td>0.0</td>\n",
       "      <td>0.0</td>\n",
       "      <td>1.0</td>\n",
       "      <td>0.0</td>\n",
       "    </tr>\n",
       "    <tr>\n",
       "      <th>17</th>\n",
       "      <td>Renault_Twingo_1.2_16V_Aut.</td>\n",
       "      <td>Angebot</td>\n",
       "      <td>1750.0</td>\n",
       "      <td>control</td>\n",
       "      <td>0.202266</td>\n",
       "      <td>1.0</td>\n",
       "      <td>-0.756832</td>\n",
       "      <td>twingo</td>\n",
       "      <td>0.586671</td>\n",
       "      <td>benzin</td>\n",
       "      <td>renault</td>\n",
       "      <td>1.0</td>\n",
       "      <td>0.0</td>\n",
       "      <td>0.0</td>\n",
       "      <td>0.0</td>\n",
       "      <td>0.0</td>\n",
       "      <td>0.0</td>\n",
       "      <td>0.0</td>\n",
       "      <td>1.0</td>\n",
       "      <td>0.0</td>\n",
       "    </tr>\n",
       "  </tbody>\n",
       "</table>\n",
       "</div>"
      ],
      "text/plain": [
       "                              name offerType   price   abtest  \\\n",
       "3               GOLF_4_1_4__3TÜRER   Angebot  1500.0     test   \n",
       "4   Skoda_Fabia_1.4_TDI_PD_Classic   Angebot  3600.0     test   \n",
       "6      Peugeot_206_CC_110_Platinum   Angebot  2200.0     test   \n",
       "10               Mazda_3_1.6_Sport   Angebot  2000.0  control   \n",
       "17     Renault_Twingo_1.2_16V_Aut.   Angebot  1750.0  control   \n",
       "\n",
       "    yearOfRegistration  gearbox   powerPS    model  kilometer fuelType  \\\n",
       "3            -0.393648     -1.0 -0.756832     golf   0.586671   benzin   \n",
       "4             0.996818     -1.0 -0.884237    fabia  -1.137860   diesel   \n",
       "6             0.202266     -1.0 -0.034866  2_reihe   0.586671   benzin   \n",
       "10            0.202266     -1.0 -0.119803  3_reihe   0.586671   benzin   \n",
       "17            0.202266      1.0 -0.756832   twingo   0.586671   benzin   \n",
       "\n",
       "         brand  notRepairedDamage  vehicleType_andere  vehicleType_bus  \\\n",
       "3   volkswagen                1.0                 0.0              0.0   \n",
       "4        skoda                1.0                 0.0              0.0   \n",
       "6      peugeot                1.0                 0.0              1.0   \n",
       "10       mazda                1.0                 0.0              0.0   \n",
       "17     renault                1.0                 0.0              0.0   \n",
       "\n",
       "    vehicleType_cabrio  vehicleType_coupe  vehicleType_kleinwagen  \\\n",
       "3                  0.0                0.0                     0.0   \n",
       "4                  0.0                0.0                     1.0   \n",
       "6                  0.0                0.0                     0.0   \n",
       "10                 0.0                0.0                     0.0   \n",
       "17                 0.0                0.0                     0.0   \n",
       "\n",
       "    vehicleType_kombi  vehicleType_limousine  vehicleType_suv  \n",
       "3                 0.0                    1.0              0.0  \n",
       "4                 0.0                    0.0              0.0  \n",
       "6                 0.0                    0.0              0.0  \n",
       "10                0.0                    1.0              0.0  \n",
       "17                0.0                    1.0              0.0  "
      ]
     },
     "execution_count": 802,
     "metadata": {},
     "output_type": "execute_result"
    }
   ],
   "source": [
    "from sklearn.preprocessing import OneHotEncoder\n",
    "\n",
    "\n",
    "col_ohe = clean_data[['vehicleType']]\n",
    "encoder = OneHotEncoder(sparse_output=False, handle_unknown='ignore')\n",
    "encoded_array = encoder.fit_transform(col_ohe)\n",
    "\n",
    "encoded_df = pd.DataFrame(\n",
    "    encoded_array, \n",
    "    columns=encoder.get_feature_names_out(['vehicleType'])\n",
    ")\n",
    "\n",
    "\n",
    "df_final = pd.concat([clean_data.drop('vehicleType', axis=1), encoded_df], axis=1)\n",
    "\n",
    "df_final.head()"
   ]
  },
  {
   "cell_type": "code",
   "execution_count": 803,
   "id": "7bc45cd5",
   "metadata": {},
   "outputs": [],
   "source": [
    "# после применения функции сверху, в датсете стало на 100к больше строк. Я обратился в интернет за помощью:\n",
    "clean_data = clean_data.reset_index(drop=True)\n",
    "encoded_df = encoded_df.reset_index(drop=True)\n",
    "df_final = pd.concat([clean_data.drop('vehicleType', axis=1), encoded_df], axis=1)"
   ]
  },
  {
   "cell_type": "code",
   "execution_count": 804,
   "id": "ba39f3ab",
   "metadata": {},
   "outputs": [
    {
     "name": "stdout",
     "output_type": "stream",
     "text": [
      "True\n"
     ]
    }
   ],
   "source": [
    "print(clean_data.index.equals(encoded_df.index))"
   ]
  },
  {
   "cell_type": "code",
   "execution_count": 805,
   "id": "499ab577",
   "metadata": {},
   "outputs": [
    {
     "data": {
      "text/plain": [
       "array(['test', 'control'], dtype=object)"
      ]
     },
     "execution_count": 805,
     "metadata": {},
     "output_type": "execute_result"
    }
   ],
   "source": [
    "df_final['abtest'].unique()"
   ]
  },
  {
   "cell_type": "code",
   "execution_count": 806,
   "id": "5203d12f",
   "metadata": {},
   "outputs": [
    {
     "data": {
      "text/plain": [
       "189618"
      ]
     },
     "execution_count": 806,
     "metadata": {},
     "output_type": "execute_result"
    }
   ],
   "source": [
    "clean_data.shape[0]"
   ]
  },
  {
   "cell_type": "code",
   "execution_count": 807,
   "id": "d79e299e",
   "metadata": {},
   "outputs": [
    {
     "data": {
      "text/plain": [
       "189618"
      ]
     },
     "execution_count": 807,
     "metadata": {},
     "output_type": "execute_result"
    }
   ],
   "source": [
    "df_final.shape[0]"
   ]
  },
  {
   "cell_type": "code",
   "execution_count": 808,
   "id": "d811ea1a",
   "metadata": {},
   "outputs": [
    {
     "data": {
      "text/plain": [
       "np.int64(0)"
      ]
     },
     "execution_count": 808,
     "metadata": {},
     "output_type": "execute_result"
    }
   ],
   "source": [
    "df_final['abtest'].isnull().sum()\n",
    "# нужно заменить nan значения"
   ]
  },
  {
   "cell_type": "code",
   "execution_count": 809,
   "id": "511d40fd",
   "metadata": {},
   "outputs": [],
   "source": [
    "# заполнение модой\n",
    "df_final['abtest'] = df_final['abtest'].fillna(df_final['abtest'].mode()[0])"
   ]
  },
  {
   "cell_type": "code",
   "execution_count": 810,
   "id": "af94effa",
   "metadata": {},
   "outputs": [
    {
     "name": "stderr",
     "output_type": "stream",
     "text": [
      "C:\\Users\\1\\AppData\\Local\\Temp\\ipykernel_12184\\3975137877.py:1: FutureWarning: Downcasting behavior in `replace` is deprecated and will be removed in a future version. To retain the old behavior, explicitly call `result.infer_objects(copy=False)`. To opt-in to the future behavior, set `pd.set_option('future.no_silent_downcasting', True)`\n",
      "  df_final['abtest'] = df_final['abtest'].replace({'test': 1, 'control': 0})\n"
     ]
    }
   ],
   "source": [
    "df_final['abtest'] = df_final['abtest'].replace({'test': 1, 'control': 0}) "
   ]
  },
  {
   "cell_type": "code",
   "execution_count": 811,
   "id": "3cf986f0",
   "metadata": {},
   "outputs": [
    {
     "data": {
      "text/html": [
       "<div>\n",
       "<style scoped>\n",
       "    .dataframe tbody tr th:only-of-type {\n",
       "        vertical-align: middle;\n",
       "    }\n",
       "\n",
       "    .dataframe tbody tr th {\n",
       "        vertical-align: top;\n",
       "    }\n",
       "\n",
       "    .dataframe thead th {\n",
       "        text-align: right;\n",
       "    }\n",
       "</style>\n",
       "<table border=\"1\" class=\"dataframe\">\n",
       "  <thead>\n",
       "    <tr style=\"text-align: right;\">\n",
       "      <th></th>\n",
       "      <th>name</th>\n",
       "      <th>offerType</th>\n",
       "      <th>price</th>\n",
       "      <th>abtest</th>\n",
       "      <th>yearOfRegistration</th>\n",
       "      <th>gearbox</th>\n",
       "      <th>powerPS</th>\n",
       "      <th>model</th>\n",
       "      <th>kilometer</th>\n",
       "      <th>fuelType</th>\n",
       "      <th>brand</th>\n",
       "      <th>notRepairedDamage</th>\n",
       "      <th>vehicleType_andere</th>\n",
       "      <th>vehicleType_bus</th>\n",
       "      <th>vehicleType_cabrio</th>\n",
       "      <th>vehicleType_coupe</th>\n",
       "      <th>vehicleType_kleinwagen</th>\n",
       "      <th>vehicleType_kombi</th>\n",
       "      <th>vehicleType_limousine</th>\n",
       "      <th>vehicleType_suv</th>\n",
       "    </tr>\n",
       "  </thead>\n",
       "  <tbody>\n",
       "    <tr>\n",
       "      <th>189613</th>\n",
       "      <td>Volkswagen_Golf_2.0_TDI_DPF_Team</td>\n",
       "      <td>Angebot</td>\n",
       "      <td>7900</td>\n",
       "      <td>1</td>\n",
       "      <td>1.394094</td>\n",
       "      <td>-1.0</td>\n",
       "      <td>0.623397</td>\n",
       "      <td>golf</td>\n",
       "      <td>0.586671</td>\n",
       "      <td>diesel</td>\n",
       "      <td>volkswagen</td>\n",
       "      <td>1</td>\n",
       "      <td>0.0</td>\n",
       "      <td>0.0</td>\n",
       "      <td>0.0</td>\n",
       "      <td>0.0</td>\n",
       "      <td>0.0</td>\n",
       "      <td>0.0</td>\n",
       "      <td>1.0</td>\n",
       "      <td>0.0</td>\n",
       "    </tr>\n",
       "    <tr>\n",
       "      <th>189614</th>\n",
       "      <td>Bmw_320_D_DPF_Touring_!!!</td>\n",
       "      <td>Angebot</td>\n",
       "      <td>3999</td>\n",
       "      <td>1</td>\n",
       "      <td>0.400904</td>\n",
       "      <td>-1.0</td>\n",
       "      <td>-2.285700</td>\n",
       "      <td>3er</td>\n",
       "      <td>0.586671</td>\n",
       "      <td>diesel</td>\n",
       "      <td>bmw</td>\n",
       "      <td>1</td>\n",
       "      <td>0.0</td>\n",
       "      <td>0.0</td>\n",
       "      <td>0.0</td>\n",
       "      <td>0.0</td>\n",
       "      <td>0.0</td>\n",
       "      <td>1.0</td>\n",
       "      <td>0.0</td>\n",
       "      <td>0.0</td>\n",
       "    </tr>\n",
       "    <tr>\n",
       "      <th>189615</th>\n",
       "      <td>Opel_Zafira_1.6_Elegance_TÜV_12/16</td>\n",
       "      <td>Angebot</td>\n",
       "      <td>1150</td>\n",
       "      <td>0</td>\n",
       "      <td>-0.592286</td>\n",
       "      <td>-1.0</td>\n",
       "      <td>-2.349403</td>\n",
       "      <td>zafira</td>\n",
       "      <td>0.586671</td>\n",
       "      <td>benzin</td>\n",
       "      <td>opel</td>\n",
       "      <td>1</td>\n",
       "      <td>0.0</td>\n",
       "      <td>1.0</td>\n",
       "      <td>0.0</td>\n",
       "      <td>0.0</td>\n",
       "      <td>0.0</td>\n",
       "      <td>0.0</td>\n",
       "      <td>0.0</td>\n",
       "      <td>0.0</td>\n",
       "    </tr>\n",
       "    <tr>\n",
       "      <th>189616</th>\n",
       "      <td>Smart_smart_leistungssteigerung_100ps</td>\n",
       "      <td>Angebot</td>\n",
       "      <td>1199</td>\n",
       "      <td>1</td>\n",
       "      <td>-0.592286</td>\n",
       "      <td>1.0</td>\n",
       "      <td>-0.204740</td>\n",
       "      <td>fortwo</td>\n",
       "      <td>-0.131883</td>\n",
       "      <td>benzin</td>\n",
       "      <td>smart</td>\n",
       "      <td>1</td>\n",
       "      <td>0.0</td>\n",
       "      <td>0.0</td>\n",
       "      <td>1.0</td>\n",
       "      <td>0.0</td>\n",
       "      <td>0.0</td>\n",
       "      <td>0.0</td>\n",
       "      <td>0.0</td>\n",
       "      <td>0.0</td>\n",
       "    </tr>\n",
       "    <tr>\n",
       "      <th>189617</th>\n",
       "      <td>Volkswagen_Multivan_T4_TDI_7DC_UY2</td>\n",
       "      <td>Angebot</td>\n",
       "      <td>9200</td>\n",
       "      <td>1</td>\n",
       "      <td>-1.386838</td>\n",
       "      <td>-1.0</td>\n",
       "      <td>-0.183506</td>\n",
       "      <td>transporter</td>\n",
       "      <td>0.586671</td>\n",
       "      <td>diesel</td>\n",
       "      <td>volkswagen</td>\n",
       "      <td>1</td>\n",
       "      <td>0.0</td>\n",
       "      <td>1.0</td>\n",
       "      <td>0.0</td>\n",
       "      <td>0.0</td>\n",
       "      <td>0.0</td>\n",
       "      <td>0.0</td>\n",
       "      <td>0.0</td>\n",
       "      <td>0.0</td>\n",
       "    </tr>\n",
       "  </tbody>\n",
       "</table>\n",
       "</div>"
      ],
      "text/plain": [
       "                                         name offerType  price  abtest  \\\n",
       "189613       Volkswagen_Golf_2.0_TDI_DPF_Team   Angebot   7900       1   \n",
       "189614              Bmw_320_D_DPF_Touring_!!!   Angebot   3999       1   \n",
       "189615     Opel_Zafira_1.6_Elegance_TÜV_12/16   Angebot   1150       0   \n",
       "189616  Smart_smart_leistungssteigerung_100ps   Angebot   1199       1   \n",
       "189617     Volkswagen_Multivan_T4_TDI_7DC_UY2   Angebot   9200       1   \n",
       "\n",
       "        yearOfRegistration  gearbox   powerPS        model  kilometer  \\\n",
       "189613            1.394094     -1.0  0.623397         golf   0.586671   \n",
       "189614            0.400904     -1.0 -2.285700          3er   0.586671   \n",
       "189615           -0.592286     -1.0 -2.349403       zafira   0.586671   \n",
       "189616           -0.592286      1.0 -0.204740       fortwo  -0.131883   \n",
       "189617           -1.386838     -1.0 -0.183506  transporter   0.586671   \n",
       "\n",
       "       fuelType       brand  notRepairedDamage  vehicleType_andere  \\\n",
       "189613   diesel  volkswagen                  1                 0.0   \n",
       "189614   diesel         bmw                  1                 0.0   \n",
       "189615   benzin        opel                  1                 0.0   \n",
       "189616   benzin       smart                  1                 0.0   \n",
       "189617   diesel  volkswagen                  1                 0.0   \n",
       "\n",
       "        vehicleType_bus  vehicleType_cabrio  vehicleType_coupe  \\\n",
       "189613              0.0                 0.0                0.0   \n",
       "189614              0.0                 0.0                0.0   \n",
       "189615              1.0                 0.0                0.0   \n",
       "189616              0.0                 1.0                0.0   \n",
       "189617              1.0                 0.0                0.0   \n",
       "\n",
       "        vehicleType_kleinwagen  vehicleType_kombi  vehicleType_limousine  \\\n",
       "189613                     0.0                0.0                    1.0   \n",
       "189614                     0.0                1.0                    0.0   \n",
       "189615                     0.0                0.0                    0.0   \n",
       "189616                     0.0                0.0                    0.0   \n",
       "189617                     0.0                0.0                    0.0   \n",
       "\n",
       "        vehicleType_suv  \n",
       "189613              0.0  \n",
       "189614              0.0  \n",
       "189615              0.0  \n",
       "189616              0.0  \n",
       "189617              0.0  "
      ]
     },
     "execution_count": 811,
     "metadata": {},
     "output_type": "execute_result"
    }
   ],
   "source": [
    "df_final.tail()"
   ]
  },
  {
   "cell_type": "code",
   "execution_count": 812,
   "id": "9a58d956",
   "metadata": {},
   "outputs": [
    {
     "data": {
      "text/plain": [
       "array(['Angebot', 'Gesuch'], dtype=object)"
      ]
     },
     "execution_count": 812,
     "metadata": {},
     "output_type": "execute_result"
    }
   ],
   "source": [
    "df_final['offerType'].unique()"
   ]
  },
  {
   "cell_type": "code",
   "execution_count": 813,
   "id": "7dda154b",
   "metadata": {},
   "outputs": [
    {
     "name": "stderr",
     "output_type": "stream",
     "text": [
      "C:\\Users\\1\\AppData\\Local\\Temp\\ipykernel_12184\\3163264529.py:1: FutureWarning: Downcasting behavior in `replace` is deprecated and will be removed in a future version. To retain the old behavior, explicitly call `result.infer_objects(copy=False)`. To opt-in to the future behavior, set `pd.set_option('future.no_silent_downcasting', True)`\n",
      "  df_final['offerType'] = df_final['offerType'].replace({'Angebot': 1, 'Gesuch': 0})\n"
     ]
    }
   ],
   "source": [
    "df_final['offerType'] = df_final['offerType'].replace({'Angebot': 1, 'Gesuch': 0})"
   ]
  },
  {
   "cell_type": "code",
   "execution_count": 814,
   "id": "f0f43406",
   "metadata": {},
   "outputs": [
    {
     "data": {
      "text/html": [
       "<div>\n",
       "<style scoped>\n",
       "    .dataframe tbody tr th:only-of-type {\n",
       "        vertical-align: middle;\n",
       "    }\n",
       "\n",
       "    .dataframe tbody tr th {\n",
       "        vertical-align: top;\n",
       "    }\n",
       "\n",
       "    .dataframe thead th {\n",
       "        text-align: right;\n",
       "    }\n",
       "</style>\n",
       "<table border=\"1\" class=\"dataframe\">\n",
       "  <thead>\n",
       "    <tr style=\"text-align: right;\">\n",
       "      <th></th>\n",
       "      <th>name</th>\n",
       "      <th>offerType</th>\n",
       "      <th>price</th>\n",
       "      <th>abtest</th>\n",
       "      <th>yearOfRegistration</th>\n",
       "      <th>gearbox</th>\n",
       "      <th>powerPS</th>\n",
       "      <th>model</th>\n",
       "      <th>kilometer</th>\n",
       "      <th>fuelType</th>\n",
       "      <th>brand</th>\n",
       "      <th>notRepairedDamage</th>\n",
       "      <th>vehicleType_andere</th>\n",
       "      <th>vehicleType_bus</th>\n",
       "      <th>vehicleType_cabrio</th>\n",
       "      <th>vehicleType_coupe</th>\n",
       "      <th>vehicleType_kleinwagen</th>\n",
       "      <th>vehicleType_kombi</th>\n",
       "      <th>vehicleType_limousine</th>\n",
       "      <th>vehicleType_suv</th>\n",
       "    </tr>\n",
       "  </thead>\n",
       "  <tbody>\n",
       "    <tr>\n",
       "      <th>189613</th>\n",
       "      <td>Volkswagen_Golf_2.0_TDI_DPF_Team</td>\n",
       "      <td>1</td>\n",
       "      <td>7900</td>\n",
       "      <td>1</td>\n",
       "      <td>1.394094</td>\n",
       "      <td>-1.0</td>\n",
       "      <td>0.623397</td>\n",
       "      <td>golf</td>\n",
       "      <td>0.586671</td>\n",
       "      <td>diesel</td>\n",
       "      <td>volkswagen</td>\n",
       "      <td>1</td>\n",
       "      <td>0.0</td>\n",
       "      <td>0.0</td>\n",
       "      <td>0.0</td>\n",
       "      <td>0.0</td>\n",
       "      <td>0.0</td>\n",
       "      <td>0.0</td>\n",
       "      <td>1.0</td>\n",
       "      <td>0.0</td>\n",
       "    </tr>\n",
       "    <tr>\n",
       "      <th>189614</th>\n",
       "      <td>Bmw_320_D_DPF_Touring_!!!</td>\n",
       "      <td>1</td>\n",
       "      <td>3999</td>\n",
       "      <td>1</td>\n",
       "      <td>0.400904</td>\n",
       "      <td>-1.0</td>\n",
       "      <td>-2.285700</td>\n",
       "      <td>3er</td>\n",
       "      <td>0.586671</td>\n",
       "      <td>diesel</td>\n",
       "      <td>bmw</td>\n",
       "      <td>1</td>\n",
       "      <td>0.0</td>\n",
       "      <td>0.0</td>\n",
       "      <td>0.0</td>\n",
       "      <td>0.0</td>\n",
       "      <td>0.0</td>\n",
       "      <td>1.0</td>\n",
       "      <td>0.0</td>\n",
       "      <td>0.0</td>\n",
       "    </tr>\n",
       "    <tr>\n",
       "      <th>189615</th>\n",
       "      <td>Opel_Zafira_1.6_Elegance_TÜV_12/16</td>\n",
       "      <td>1</td>\n",
       "      <td>1150</td>\n",
       "      <td>0</td>\n",
       "      <td>-0.592286</td>\n",
       "      <td>-1.0</td>\n",
       "      <td>-2.349403</td>\n",
       "      <td>zafira</td>\n",
       "      <td>0.586671</td>\n",
       "      <td>benzin</td>\n",
       "      <td>opel</td>\n",
       "      <td>1</td>\n",
       "      <td>0.0</td>\n",
       "      <td>1.0</td>\n",
       "      <td>0.0</td>\n",
       "      <td>0.0</td>\n",
       "      <td>0.0</td>\n",
       "      <td>0.0</td>\n",
       "      <td>0.0</td>\n",
       "      <td>0.0</td>\n",
       "    </tr>\n",
       "    <tr>\n",
       "      <th>189616</th>\n",
       "      <td>Smart_smart_leistungssteigerung_100ps</td>\n",
       "      <td>1</td>\n",
       "      <td>1199</td>\n",
       "      <td>1</td>\n",
       "      <td>-0.592286</td>\n",
       "      <td>1.0</td>\n",
       "      <td>-0.204740</td>\n",
       "      <td>fortwo</td>\n",
       "      <td>-0.131883</td>\n",
       "      <td>benzin</td>\n",
       "      <td>smart</td>\n",
       "      <td>1</td>\n",
       "      <td>0.0</td>\n",
       "      <td>0.0</td>\n",
       "      <td>1.0</td>\n",
       "      <td>0.0</td>\n",
       "      <td>0.0</td>\n",
       "      <td>0.0</td>\n",
       "      <td>0.0</td>\n",
       "      <td>0.0</td>\n",
       "    </tr>\n",
       "    <tr>\n",
       "      <th>189617</th>\n",
       "      <td>Volkswagen_Multivan_T4_TDI_7DC_UY2</td>\n",
       "      <td>1</td>\n",
       "      <td>9200</td>\n",
       "      <td>1</td>\n",
       "      <td>-1.386838</td>\n",
       "      <td>-1.0</td>\n",
       "      <td>-0.183506</td>\n",
       "      <td>transporter</td>\n",
       "      <td>0.586671</td>\n",
       "      <td>diesel</td>\n",
       "      <td>volkswagen</td>\n",
       "      <td>1</td>\n",
       "      <td>0.0</td>\n",
       "      <td>1.0</td>\n",
       "      <td>0.0</td>\n",
       "      <td>0.0</td>\n",
       "      <td>0.0</td>\n",
       "      <td>0.0</td>\n",
       "      <td>0.0</td>\n",
       "      <td>0.0</td>\n",
       "    </tr>\n",
       "  </tbody>\n",
       "</table>\n",
       "</div>"
      ],
      "text/plain": [
       "                                         name  offerType  price  abtest  \\\n",
       "189613       Volkswagen_Golf_2.0_TDI_DPF_Team          1   7900       1   \n",
       "189614              Bmw_320_D_DPF_Touring_!!!          1   3999       1   \n",
       "189615     Opel_Zafira_1.6_Elegance_TÜV_12/16          1   1150       0   \n",
       "189616  Smart_smart_leistungssteigerung_100ps          1   1199       1   \n",
       "189617     Volkswagen_Multivan_T4_TDI_7DC_UY2          1   9200       1   \n",
       "\n",
       "        yearOfRegistration  gearbox   powerPS        model  kilometer  \\\n",
       "189613            1.394094     -1.0  0.623397         golf   0.586671   \n",
       "189614            0.400904     -1.0 -2.285700          3er   0.586671   \n",
       "189615           -0.592286     -1.0 -2.349403       zafira   0.586671   \n",
       "189616           -0.592286      1.0 -0.204740       fortwo  -0.131883   \n",
       "189617           -1.386838     -1.0 -0.183506  transporter   0.586671   \n",
       "\n",
       "       fuelType       brand  notRepairedDamage  vehicleType_andere  \\\n",
       "189613   diesel  volkswagen                  1                 0.0   \n",
       "189614   diesel         bmw                  1                 0.0   \n",
       "189615   benzin        opel                  1                 0.0   \n",
       "189616   benzin       smart                  1                 0.0   \n",
       "189617   diesel  volkswagen                  1                 0.0   \n",
       "\n",
       "        vehicleType_bus  vehicleType_cabrio  vehicleType_coupe  \\\n",
       "189613              0.0                 0.0                0.0   \n",
       "189614              0.0                 0.0                0.0   \n",
       "189615              1.0                 0.0                0.0   \n",
       "189616              0.0                 1.0                0.0   \n",
       "189617              1.0                 0.0                0.0   \n",
       "\n",
       "        vehicleType_kleinwagen  vehicleType_kombi  vehicleType_limousine  \\\n",
       "189613                     0.0                0.0                    1.0   \n",
       "189614                     0.0                1.0                    0.0   \n",
       "189615                     0.0                0.0                    0.0   \n",
       "189616                     0.0                0.0                    0.0   \n",
       "189617                     0.0                0.0                    0.0   \n",
       "\n",
       "        vehicleType_suv  \n",
       "189613              0.0  \n",
       "189614              0.0  \n",
       "189615              0.0  \n",
       "189616              0.0  \n",
       "189617              0.0  "
      ]
     },
     "execution_count": 814,
     "metadata": {},
     "output_type": "execute_result"
    }
   ],
   "source": [
    "df_final.tail()"
   ]
  },
  {
   "cell_type": "code",
   "execution_count": 764,
   "id": "56389a27",
   "metadata": {},
   "outputs": [
    {
     "data": {
      "text/plain": [
       "array(['benzin', 'diesel', 'lpg', 'andere', 'cng', 'elektro', 'hybrid'],\n",
       "      dtype=object)"
      ]
     },
     "execution_count": 764,
     "metadata": {},
     "output_type": "execute_result"
    }
   ],
   "source": [
    "df_final['fuelType'].unique()  # применим OHE, тк данные без порядка"
   ]
  },
  {
   "cell_type": "code",
   "execution_count": 815,
   "id": "bde6b5d8",
   "metadata": {},
   "outputs": [],
   "source": [
    "fuel_encoded = encoder.fit_transform(df_final[['fuelType']])\n",
    "df_final = pd.concat([df_final, pd.DataFrame(fuel_encoded, columns=encoder.get_feature_names_out(['fuelType']))], axis=1)\n",
    "df_final.drop('fuelType', axis=1, inplace=True)"
   ]
  },
  {
   "cell_type": "code",
   "execution_count": 816,
   "id": "ffa893ee",
   "metadata": {},
   "outputs": [],
   "source": [
    "df = df_final"
   ]
  },
  {
   "cell_type": "code",
   "execution_count": 817,
   "id": "aea4f634",
   "metadata": {},
   "outputs": [],
   "source": [
    "df = df.drop(columns=['name', 'offerType'])"
   ]
  },
  {
   "cell_type": "code",
   "execution_count": 818,
   "id": "6d7172f8",
   "metadata": {},
   "outputs": [
    {
     "data": {
      "text/html": [
       "<div>\n",
       "<style scoped>\n",
       "    .dataframe tbody tr th:only-of-type {\n",
       "        vertical-align: middle;\n",
       "    }\n",
       "\n",
       "    .dataframe tbody tr th {\n",
       "        vertical-align: top;\n",
       "    }\n",
       "\n",
       "    .dataframe thead th {\n",
       "        text-align: right;\n",
       "    }\n",
       "</style>\n",
       "<table border=\"1\" class=\"dataframe\">\n",
       "  <thead>\n",
       "    <tr style=\"text-align: right;\">\n",
       "      <th></th>\n",
       "      <th>price</th>\n",
       "      <th>abtest</th>\n",
       "      <th>yearOfRegistration</th>\n",
       "      <th>gearbox</th>\n",
       "      <th>powerPS</th>\n",
       "      <th>model</th>\n",
       "      <th>kilometer</th>\n",
       "      <th>brand</th>\n",
       "      <th>notRepairedDamage</th>\n",
       "      <th>vehicleType_andere</th>\n",
       "      <th>...</th>\n",
       "      <th>vehicleType_kombi</th>\n",
       "      <th>vehicleType_limousine</th>\n",
       "      <th>vehicleType_suv</th>\n",
       "      <th>fuelType_andere</th>\n",
       "      <th>fuelType_benzin</th>\n",
       "      <th>fuelType_cng</th>\n",
       "      <th>fuelType_diesel</th>\n",
       "      <th>fuelType_elektro</th>\n",
       "      <th>fuelType_hybrid</th>\n",
       "      <th>fuelType_lpg</th>\n",
       "    </tr>\n",
       "  </thead>\n",
       "  <tbody>\n",
       "    <tr>\n",
       "      <th>0</th>\n",
       "      <td>1500</td>\n",
       "      <td>1</td>\n",
       "      <td>-0.393648</td>\n",
       "      <td>-1.0</td>\n",
       "      <td>-0.756832</td>\n",
       "      <td>golf</td>\n",
       "      <td>0.586671</td>\n",
       "      <td>volkswagen</td>\n",
       "      <td>1</td>\n",
       "      <td>0.0</td>\n",
       "      <td>...</td>\n",
       "      <td>0.0</td>\n",
       "      <td>0.0</td>\n",
       "      <td>0.0</td>\n",
       "      <td>0.0</td>\n",
       "      <td>1.0</td>\n",
       "      <td>0.0</td>\n",
       "      <td>0.0</td>\n",
       "      <td>0.0</td>\n",
       "      <td>0.0</td>\n",
       "      <td>0.0</td>\n",
       "    </tr>\n",
       "    <tr>\n",
       "      <th>1</th>\n",
       "      <td>3600</td>\n",
       "      <td>1</td>\n",
       "      <td>0.996818</td>\n",
       "      <td>-1.0</td>\n",
       "      <td>-0.884237</td>\n",
       "      <td>fabia</td>\n",
       "      <td>-1.137860</td>\n",
       "      <td>skoda</td>\n",
       "      <td>1</td>\n",
       "      <td>0.0</td>\n",
       "      <td>...</td>\n",
       "      <td>0.0</td>\n",
       "      <td>0.0</td>\n",
       "      <td>0.0</td>\n",
       "      <td>0.0</td>\n",
       "      <td>0.0</td>\n",
       "      <td>0.0</td>\n",
       "      <td>1.0</td>\n",
       "      <td>0.0</td>\n",
       "      <td>0.0</td>\n",
       "      <td>0.0</td>\n",
       "    </tr>\n",
       "    <tr>\n",
       "      <th>2</th>\n",
       "      <td>2200</td>\n",
       "      <td>1</td>\n",
       "      <td>0.202266</td>\n",
       "      <td>-1.0</td>\n",
       "      <td>-0.034866</td>\n",
       "      <td>2_reihe</td>\n",
       "      <td>0.586671</td>\n",
       "      <td>peugeot</td>\n",
       "      <td>1</td>\n",
       "      <td>0.0</td>\n",
       "      <td>...</td>\n",
       "      <td>0.0</td>\n",
       "      <td>0.0</td>\n",
       "      <td>0.0</td>\n",
       "      <td>0.0</td>\n",
       "      <td>1.0</td>\n",
       "      <td>0.0</td>\n",
       "      <td>0.0</td>\n",
       "      <td>0.0</td>\n",
       "      <td>0.0</td>\n",
       "      <td>0.0</td>\n",
       "    </tr>\n",
       "    <tr>\n",
       "      <th>3</th>\n",
       "      <td>2000</td>\n",
       "      <td>0</td>\n",
       "      <td>0.202266</td>\n",
       "      <td>-1.0</td>\n",
       "      <td>-0.119803</td>\n",
       "      <td>3_reihe</td>\n",
       "      <td>0.586671</td>\n",
       "      <td>mazda</td>\n",
       "      <td>1</td>\n",
       "      <td>0.0</td>\n",
       "      <td>...</td>\n",
       "      <td>0.0</td>\n",
       "      <td>1.0</td>\n",
       "      <td>0.0</td>\n",
       "      <td>0.0</td>\n",
       "      <td>1.0</td>\n",
       "      <td>0.0</td>\n",
       "      <td>0.0</td>\n",
       "      <td>0.0</td>\n",
       "      <td>0.0</td>\n",
       "      <td>0.0</td>\n",
       "    </tr>\n",
       "    <tr>\n",
       "      <th>4</th>\n",
       "      <td>1750</td>\n",
       "      <td>0</td>\n",
       "      <td>0.202266</td>\n",
       "      <td>1.0</td>\n",
       "      <td>-0.756832</td>\n",
       "      <td>twingo</td>\n",
       "      <td>0.586671</td>\n",
       "      <td>renault</td>\n",
       "      <td>1</td>\n",
       "      <td>0.0</td>\n",
       "      <td>...</td>\n",
       "      <td>0.0</td>\n",
       "      <td>0.0</td>\n",
       "      <td>0.0</td>\n",
       "      <td>0.0</td>\n",
       "      <td>1.0</td>\n",
       "      <td>0.0</td>\n",
       "      <td>0.0</td>\n",
       "      <td>0.0</td>\n",
       "      <td>0.0</td>\n",
       "      <td>0.0</td>\n",
       "    </tr>\n",
       "  </tbody>\n",
       "</table>\n",
       "<p>5 rows × 24 columns</p>\n",
       "</div>"
      ],
      "text/plain": [
       "   price  abtest  yearOfRegistration  gearbox   powerPS    model  kilometer  \\\n",
       "0   1500       1           -0.393648     -1.0 -0.756832     golf   0.586671   \n",
       "1   3600       1            0.996818     -1.0 -0.884237    fabia  -1.137860   \n",
       "2   2200       1            0.202266     -1.0 -0.034866  2_reihe   0.586671   \n",
       "3   2000       0            0.202266     -1.0 -0.119803  3_reihe   0.586671   \n",
       "4   1750       0            0.202266      1.0 -0.756832   twingo   0.586671   \n",
       "\n",
       "        brand  notRepairedDamage  vehicleType_andere  ...  vehicleType_kombi  \\\n",
       "0  volkswagen                  1                 0.0  ...                0.0   \n",
       "1       skoda                  1                 0.0  ...                0.0   \n",
       "2     peugeot                  1                 0.0  ...                0.0   \n",
       "3       mazda                  1                 0.0  ...                0.0   \n",
       "4     renault                  1                 0.0  ...                0.0   \n",
       "\n",
       "   vehicleType_limousine  vehicleType_suv  fuelType_andere  fuelType_benzin  \\\n",
       "0                    0.0              0.0              0.0              1.0   \n",
       "1                    0.0              0.0              0.0              0.0   \n",
       "2                    0.0              0.0              0.0              1.0   \n",
       "3                    1.0              0.0              0.0              1.0   \n",
       "4                    0.0              0.0              0.0              1.0   \n",
       "\n",
       "   fuelType_cng  fuelType_diesel  fuelType_elektro  fuelType_hybrid  \\\n",
       "0           0.0              0.0               0.0              0.0   \n",
       "1           0.0              1.0               0.0              0.0   \n",
       "2           0.0              0.0               0.0              0.0   \n",
       "3           0.0              0.0               0.0              0.0   \n",
       "4           0.0              0.0               0.0              0.0   \n",
       "\n",
       "   fuelType_lpg  \n",
       "0           0.0  \n",
       "1           0.0  \n",
       "2           0.0  \n",
       "3           0.0  \n",
       "4           0.0  \n",
       "\n",
       "[5 rows x 24 columns]"
      ]
     },
     "execution_count": 818,
     "metadata": {},
     "output_type": "execute_result"
    }
   ],
   "source": [
    "df.head()"
   ]
  },
  {
   "cell_type": "markdown",
   "id": "d3e69804",
   "metadata": {},
   "source": [
    "Сначала я хотел использовать LabelEncodel, но для LASSO и RIDGE это нехорошо. Реешил использовать Frequency Encoding"
   ]
  },
  {
   "cell_type": "code",
   "execution_count": 769,
   "id": "66013a2f",
   "metadata": {},
   "outputs": [],
   "source": [
    "# from sklearn.preprocessing import LabelEncoder\n",
    "\n",
    "# le = LabelEncoder()\n",
    "# df['model'] = le.fit_transform(df['model'])\n",
    "# df.head(10)"
   ]
  },
  {
   "cell_type": "code",
   "execution_count": 819,
   "id": "81804285",
   "metadata": {},
   "outputs": [],
   "source": [
    "for col in ['brand', 'model']:\n",
    "    df[col] = df[col].map(df[col].value_counts(normalize=True))"
   ]
  },
  {
   "cell_type": "code",
   "execution_count": 820,
   "id": "9e3e6dda",
   "metadata": {},
   "outputs": [
    {
     "data": {
      "text/html": [
       "<div>\n",
       "<style scoped>\n",
       "    .dataframe tbody tr th:only-of-type {\n",
       "        vertical-align: middle;\n",
       "    }\n",
       "\n",
       "    .dataframe tbody tr th {\n",
       "        vertical-align: top;\n",
       "    }\n",
       "\n",
       "    .dataframe thead th {\n",
       "        text-align: right;\n",
       "    }\n",
       "</style>\n",
       "<table border=\"1\" class=\"dataframe\">\n",
       "  <thead>\n",
       "    <tr style=\"text-align: right;\">\n",
       "      <th></th>\n",
       "      <th>price</th>\n",
       "      <th>abtest</th>\n",
       "      <th>yearOfRegistration</th>\n",
       "      <th>gearbox</th>\n",
       "      <th>powerPS</th>\n",
       "      <th>model</th>\n",
       "      <th>kilometer</th>\n",
       "      <th>brand</th>\n",
       "      <th>notRepairedDamage</th>\n",
       "      <th>vehicleType_andere</th>\n",
       "      <th>...</th>\n",
       "      <th>vehicleType_kombi</th>\n",
       "      <th>vehicleType_limousine</th>\n",
       "      <th>vehicleType_suv</th>\n",
       "      <th>fuelType_andere</th>\n",
       "      <th>fuelType_benzin</th>\n",
       "      <th>fuelType_cng</th>\n",
       "      <th>fuelType_diesel</th>\n",
       "      <th>fuelType_elektro</th>\n",
       "      <th>fuelType_hybrid</th>\n",
       "      <th>fuelType_lpg</th>\n",
       "    </tr>\n",
       "  </thead>\n",
       "  <tbody>\n",
       "    <tr>\n",
       "      <th>0</th>\n",
       "      <td>1500</td>\n",
       "      <td>1</td>\n",
       "      <td>-0.393648</td>\n",
       "      <td>-1.0</td>\n",
       "      <td>-0.756832</td>\n",
       "      <td>0.085182</td>\n",
       "      <td>0.586671</td>\n",
       "      <td>0.215401</td>\n",
       "      <td>1</td>\n",
       "      <td>0.0</td>\n",
       "      <td>...</td>\n",
       "      <td>0.0</td>\n",
       "      <td>0.0</td>\n",
       "      <td>0.0</td>\n",
       "      <td>0.0</td>\n",
       "      <td>1.0</td>\n",
       "      <td>0.0</td>\n",
       "      <td>0.0</td>\n",
       "      <td>0.0</td>\n",
       "      <td>0.0</td>\n",
       "      <td>0.0</td>\n",
       "    </tr>\n",
       "    <tr>\n",
       "      <th>1</th>\n",
       "      <td>3600</td>\n",
       "      <td>1</td>\n",
       "      <td>0.996818</td>\n",
       "      <td>-1.0</td>\n",
       "      <td>-0.884237</td>\n",
       "      <td>0.008201</td>\n",
       "      <td>-1.137860</td>\n",
       "      <td>0.019059</td>\n",
       "      <td>1</td>\n",
       "      <td>0.0</td>\n",
       "      <td>...</td>\n",
       "      <td>0.0</td>\n",
       "      <td>0.0</td>\n",
       "      <td>0.0</td>\n",
       "      <td>0.0</td>\n",
       "      <td>0.0</td>\n",
       "      <td>0.0</td>\n",
       "      <td>1.0</td>\n",
       "      <td>0.0</td>\n",
       "      <td>0.0</td>\n",
       "      <td>0.0</td>\n",
       "    </tr>\n",
       "    <tr>\n",
       "      <th>2</th>\n",
       "      <td>2200</td>\n",
       "      <td>1</td>\n",
       "      <td>0.202266</td>\n",
       "      <td>-1.0</td>\n",
       "      <td>-0.034866</td>\n",
       "      <td>0.017525</td>\n",
       "      <td>0.586671</td>\n",
       "      <td>0.034696</td>\n",
       "      <td>1</td>\n",
       "      <td>0.0</td>\n",
       "      <td>...</td>\n",
       "      <td>0.0</td>\n",
       "      <td>0.0</td>\n",
       "      <td>0.0</td>\n",
       "      <td>0.0</td>\n",
       "      <td>1.0</td>\n",
       "      <td>0.0</td>\n",
       "      <td>0.0</td>\n",
       "      <td>0.0</td>\n",
       "      <td>0.0</td>\n",
       "      <td>0.0</td>\n",
       "    </tr>\n",
       "    <tr>\n",
       "      <th>3</th>\n",
       "      <td>2000</td>\n",
       "      <td>0</td>\n",
       "      <td>0.202266</td>\n",
       "      <td>-1.0</td>\n",
       "      <td>-0.119803</td>\n",
       "      <td>0.011360</td>\n",
       "      <td>0.586671</td>\n",
       "      <td>0.016802</td>\n",
       "      <td>1</td>\n",
       "      <td>0.0</td>\n",
       "      <td>...</td>\n",
       "      <td>0.0</td>\n",
       "      <td>1.0</td>\n",
       "      <td>0.0</td>\n",
       "      <td>0.0</td>\n",
       "      <td>1.0</td>\n",
       "      <td>0.0</td>\n",
       "      <td>0.0</td>\n",
       "      <td>0.0</td>\n",
       "      <td>0.0</td>\n",
       "      <td>0.0</td>\n",
       "    </tr>\n",
       "    <tr>\n",
       "      <th>4</th>\n",
       "      <td>1750</td>\n",
       "      <td>0</td>\n",
       "      <td>0.202266</td>\n",
       "      <td>1.0</td>\n",
       "      <td>-0.756832</td>\n",
       "      <td>0.013949</td>\n",
       "      <td>0.586671</td>\n",
       "      <td>0.050712</td>\n",
       "      <td>1</td>\n",
       "      <td>0.0</td>\n",
       "      <td>...</td>\n",
       "      <td>0.0</td>\n",
       "      <td>0.0</td>\n",
       "      <td>0.0</td>\n",
       "      <td>0.0</td>\n",
       "      <td>1.0</td>\n",
       "      <td>0.0</td>\n",
       "      <td>0.0</td>\n",
       "      <td>0.0</td>\n",
       "      <td>0.0</td>\n",
       "      <td>0.0</td>\n",
       "    </tr>\n",
       "  </tbody>\n",
       "</table>\n",
       "<p>5 rows × 24 columns</p>\n",
       "</div>"
      ],
      "text/plain": [
       "   price  abtest  yearOfRegistration  gearbox   powerPS     model  kilometer  \\\n",
       "0   1500       1           -0.393648     -1.0 -0.756832  0.085182   0.586671   \n",
       "1   3600       1            0.996818     -1.0 -0.884237  0.008201  -1.137860   \n",
       "2   2200       1            0.202266     -1.0 -0.034866  0.017525   0.586671   \n",
       "3   2000       0            0.202266     -1.0 -0.119803  0.011360   0.586671   \n",
       "4   1750       0            0.202266      1.0 -0.756832  0.013949   0.586671   \n",
       "\n",
       "      brand  notRepairedDamage  vehicleType_andere  ...  vehicleType_kombi  \\\n",
       "0  0.215401                  1                 0.0  ...                0.0   \n",
       "1  0.019059                  1                 0.0  ...                0.0   \n",
       "2  0.034696                  1                 0.0  ...                0.0   \n",
       "3  0.016802                  1                 0.0  ...                0.0   \n",
       "4  0.050712                  1                 0.0  ...                0.0   \n",
       "\n",
       "   vehicleType_limousine  vehicleType_suv  fuelType_andere  fuelType_benzin  \\\n",
       "0                    0.0              0.0              0.0              1.0   \n",
       "1                    0.0              0.0              0.0              0.0   \n",
       "2                    0.0              0.0              0.0              1.0   \n",
       "3                    1.0              0.0              0.0              1.0   \n",
       "4                    0.0              0.0              0.0              1.0   \n",
       "\n",
       "   fuelType_cng  fuelType_diesel  fuelType_elektro  fuelType_hybrid  \\\n",
       "0           0.0              0.0               0.0              0.0   \n",
       "1           0.0              1.0               0.0              0.0   \n",
       "2           0.0              0.0               0.0              0.0   \n",
       "3           0.0              0.0               0.0              0.0   \n",
       "4           0.0              0.0               0.0              0.0   \n",
       "\n",
       "   fuelType_lpg  \n",
       "0           0.0  \n",
       "1           0.0  \n",
       "2           0.0  \n",
       "3           0.0  \n",
       "4           0.0  \n",
       "\n",
       "[5 rows x 24 columns]"
      ]
     },
     "execution_count": 820,
     "metadata": {},
     "output_type": "execute_result"
    }
   ],
   "source": [
    "df.head()"
   ]
  },
  {
   "cell_type": "markdown",
   "id": "99d2c81a",
   "metadata": {},
   "source": [
    "**Задание 10.** "
   ]
  },
  {
   "cell_type": "markdown",
   "id": "0a22f7fd",
   "metadata": {},
   "source": [
    "a.\tРазделите набор данных на две выборки: обучение и тест"
   ]
  },
  {
   "cell_type": "code",
   "execution_count": 821,
   "id": "dfded424",
   "metadata": {},
   "outputs": [],
   "source": [
    "from sklearn.model_selection import train_test_split\n",
    "\n",
    "\n",
    "X = df.drop('price', axis=1)\n",
    "# y уже записал выше\n",
    "\n",
    "X_train, X_test, y_train, y_test = train_test_split(X, y, test_size=0.34, random_state=42)"
   ]
  },
  {
   "cell_type": "markdown",
   "id": "46912175",
   "metadata": {},
   "source": [
    "b.\tПо каждому методу регрессии из задания изучите возможные для изменения параметры и их значения"
   ]
  },
  {
   "cell_type": "markdown",
   "id": "fe9d4efe",
   "metadata": {},
   "source": [
    "Lasso (L1-регуляризация): alpha - сила регуляризации. Чем больше, тем сильнее штраф за большие коэффициенты (больше признаков обнуляется). max_inter - максимальное число итерация оптимизации. "
   ]
  },
  {
   "cell_type": "markdown",
   "id": "f522bc3a",
   "metadata": {},
   "source": [
    "Ridge (L2-регуляризатор): alpha - аналогично, но коэффициента уменьшаются, а не обнуляются. solver - алгоритм оптимизации (auto, svd, cholesky)"
   ]
  },
  {
   "cell_type": "markdown",
   "id": "bcc54a1a",
   "metadata": {},
   "source": [
    "c.\tПри подборе параметров модели регрессии используйте перекрёстную проверку (GridSearch CrossValidate). Обоснуйте выбор метрики для параметра refit в GridSearchCV. "
   ]
  },
  {
   "cell_type": "code",
   "execution_count": 822,
   "id": "08df4ae0",
   "metadata": {},
   "outputs": [],
   "source": [
    "from sklearn.model_selection import GridSearchCV\n",
    "from sklearn.linear_model import Lasso, Ridge\n",
    "from sklearn.metrics import make_scorer, mean_absolute_error, mean_squared_error\n",
    "\n",
    "\n",
    "param_grid = {\n",
    "    'alpha': [0.001, 0.1, 1, 10, 100],\n",
    "    'max_iter': [10, 40, 1000]\n",
    "}"
   ]
  },
  {
   "cell_type": "code",
   "execution_count": 835,
   "id": "5a34dd2a",
   "metadata": {},
   "outputs": [],
   "source": [
    "\n",
    "lasso = Lasso()\n",
    "ridge = Ridge()"
   ]
  },
  {
   "cell_type": "code",
   "execution_count": 836,
   "id": "5536d6da",
   "metadata": {},
   "outputs": [
    {
     "name": "stderr",
     "output_type": "stream",
     "text": [
      "c:\\Users\\1\\AppData\\Local\\Programs\\Python\\Python313\\Lib\\site-packages\\sklearn\\linear_model\\_coordinate_descent.py:695: ConvergenceWarning: Objective did not converge. You might want to increase the number of iterations, check the scale of the features or consider increasing regularisation. Duality gap: 1.804e+11, tolerance: 1.093e+08\n",
      "  model = cd_fast.enet_coordinate_descent(\n",
      "c:\\Users\\1\\AppData\\Local\\Programs\\Python\\Python313\\Lib\\site-packages\\sklearn\\linear_model\\_coordinate_descent.py:695: ConvergenceWarning: Objective did not converge. You might want to increase the number of iterations, check the scale of the features or consider increasing regularisation. Duality gap: 1.798e+11, tolerance: 1.093e+08\n",
      "  model = cd_fast.enet_coordinate_descent(\n",
      "c:\\Users\\1\\AppData\\Local\\Programs\\Python\\Python313\\Lib\\site-packages\\sklearn\\linear_model\\_coordinate_descent.py:695: ConvergenceWarning: Objective did not converge. You might want to increase the number of iterations, check the scale of the features or consider increasing regularisation. Duality gap: 1.806e+11, tolerance: 1.092e+08\n",
      "  model = cd_fast.enet_coordinate_descent(\n",
      "c:\\Users\\1\\AppData\\Local\\Programs\\Python\\Python313\\Lib\\site-packages\\sklearn\\linear_model\\_coordinate_descent.py:695: ConvergenceWarning: Objective did not converge. You might want to increase the number of iterations, check the scale of the features or consider increasing regularisation. Duality gap: 1.799e+11, tolerance: 1.090e+08\n",
      "  model = cd_fast.enet_coordinate_descent(\n",
      "c:\\Users\\1\\AppData\\Local\\Programs\\Python\\Python313\\Lib\\site-packages\\sklearn\\linear_model\\_coordinate_descent.py:695: ConvergenceWarning: Objective did not converge. You might want to increase the number of iterations, check the scale of the features or consider increasing regularisation. Duality gap: 1.802e+11, tolerance: 1.095e+08\n",
      "  model = cd_fast.enet_coordinate_descent(\n",
      "c:\\Users\\1\\AppData\\Local\\Programs\\Python\\Python313\\Lib\\site-packages\\sklearn\\linear_model\\_coordinate_descent.py:695: ConvergenceWarning: Objective did not converge. You might want to increase the number of iterations, check the scale of the features or consider increasing regularisation. Duality gap: 3.164e+10, tolerance: 1.093e+08\n",
      "  model = cd_fast.enet_coordinate_descent(\n",
      "c:\\Users\\1\\AppData\\Local\\Programs\\Python\\Python313\\Lib\\site-packages\\sklearn\\linear_model\\_coordinate_descent.py:695: ConvergenceWarning: Objective did not converge. You might want to increase the number of iterations, check the scale of the features or consider increasing regularisation. Duality gap: 4.255e+10, tolerance: 1.093e+08\n",
      "  model = cd_fast.enet_coordinate_descent(\n",
      "c:\\Users\\1\\AppData\\Local\\Programs\\Python\\Python313\\Lib\\site-packages\\sklearn\\linear_model\\_coordinate_descent.py:695: ConvergenceWarning: Objective did not converge. You might want to increase the number of iterations, check the scale of the features or consider increasing regularisation. Duality gap: 3.203e+10, tolerance: 1.092e+08\n",
      "  model = cd_fast.enet_coordinate_descent(\n",
      "c:\\Users\\1\\AppData\\Local\\Programs\\Python\\Python313\\Lib\\site-packages\\sklearn\\linear_model\\_coordinate_descent.py:695: ConvergenceWarning: Objective did not converge. You might want to increase the number of iterations, check the scale of the features or consider increasing regularisation. Duality gap: 4.261e+10, tolerance: 1.090e+08\n",
      "  model = cd_fast.enet_coordinate_descent(\n",
      "c:\\Users\\1\\AppData\\Local\\Programs\\Python\\Python313\\Lib\\site-packages\\sklearn\\linear_model\\_coordinate_descent.py:695: ConvergenceWarning: Objective did not converge. You might want to increase the number of iterations, check the scale of the features or consider increasing regularisation. Duality gap: 3.176e+10, tolerance: 1.095e+08\n",
      "  model = cd_fast.enet_coordinate_descent(\n",
      "c:\\Users\\1\\AppData\\Local\\Programs\\Python\\Python313\\Lib\\site-packages\\sklearn\\linear_model\\_coordinate_descent.py:695: ConvergenceWarning: Objective did not converge. You might want to increase the number of iterations, check the scale of the features or consider increasing regularisation. Duality gap: 3.164e+10, tolerance: 1.093e+08\n",
      "  model = cd_fast.enet_coordinate_descent(\n",
      "c:\\Users\\1\\AppData\\Local\\Programs\\Python\\Python313\\Lib\\site-packages\\sklearn\\linear_model\\_coordinate_descent.py:695: ConvergenceWarning: Objective did not converge. You might want to increase the number of iterations, check the scale of the features or consider increasing regularisation. Duality gap: 4.255e+10, tolerance: 1.093e+08\n",
      "  model = cd_fast.enet_coordinate_descent(\n",
      "c:\\Users\\1\\AppData\\Local\\Programs\\Python\\Python313\\Lib\\site-packages\\sklearn\\linear_model\\_coordinate_descent.py:695: ConvergenceWarning: Objective did not converge. You might want to increase the number of iterations, check the scale of the features or consider increasing regularisation. Duality gap: 3.203e+10, tolerance: 1.092e+08\n",
      "  model = cd_fast.enet_coordinate_descent(\n",
      "c:\\Users\\1\\AppData\\Local\\Programs\\Python\\Python313\\Lib\\site-packages\\sklearn\\linear_model\\_coordinate_descent.py:695: ConvergenceWarning: Objective did not converge. You might want to increase the number of iterations, check the scale of the features or consider increasing regularisation. Duality gap: 4.261e+10, tolerance: 1.090e+08\n",
      "  model = cd_fast.enet_coordinate_descent(\n",
      "c:\\Users\\1\\AppData\\Local\\Programs\\Python\\Python313\\Lib\\site-packages\\sklearn\\linear_model\\_coordinate_descent.py:695: ConvergenceWarning: Objective did not converge. You might want to increase the number of iterations, check the scale of the features or consider increasing regularisation. Duality gap: 3.176e+10, tolerance: 1.095e+08\n",
      "  model = cd_fast.enet_coordinate_descent(\n",
      "c:\\Users\\1\\AppData\\Local\\Programs\\Python\\Python313\\Lib\\site-packages\\sklearn\\linear_model\\_coordinate_descent.py:695: ConvergenceWarning: Objective did not converge. You might want to increase the number of iterations, check the scale of the features or consider increasing regularisation. Duality gap: 3.174e+10, tolerance: 1.093e+08\n",
      "  model = cd_fast.enet_coordinate_descent(\n",
      "c:\\Users\\1\\AppData\\Local\\Programs\\Python\\Python313\\Lib\\site-packages\\sklearn\\linear_model\\_coordinate_descent.py:695: ConvergenceWarning: Objective did not converge. You might want to increase the number of iterations, check the scale of the features or consider increasing regularisation. Duality gap: 3.157e+10, tolerance: 1.093e+08\n",
      "  model = cd_fast.enet_coordinate_descent(\n",
      "c:\\Users\\1\\AppData\\Local\\Programs\\Python\\Python313\\Lib\\site-packages\\sklearn\\linear_model\\_coordinate_descent.py:695: ConvergenceWarning: Objective did not converge. You might want to increase the number of iterations, check the scale of the features or consider increasing regularisation. Duality gap: 3.174e+10, tolerance: 1.092e+08\n",
      "  model = cd_fast.enet_coordinate_descent(\n",
      "c:\\Users\\1\\AppData\\Local\\Programs\\Python\\Python313\\Lib\\site-packages\\sklearn\\linear_model\\_coordinate_descent.py:695: ConvergenceWarning: Objective did not converge. You might want to increase the number of iterations, check the scale of the features or consider increasing regularisation. Duality gap: 4.301e+10, tolerance: 1.090e+08\n",
      "  model = cd_fast.enet_coordinate_descent(\n",
      "c:\\Users\\1\\AppData\\Local\\Programs\\Python\\Python313\\Lib\\site-packages\\sklearn\\linear_model\\_coordinate_descent.py:695: ConvergenceWarning: Objective did not converge. You might want to increase the number of iterations, check the scale of the features or consider increasing regularisation. Duality gap: 4.089e+10, tolerance: 1.095e+08\n",
      "  model = cd_fast.enet_coordinate_descent(\n",
      "c:\\Users\\1\\AppData\\Local\\Programs\\Python\\Python313\\Lib\\site-packages\\sklearn\\linear_model\\_coordinate_descent.py:695: ConvergenceWarning: Objective did not converge. You might want to increase the number of iterations, check the scale of the features or consider increasing regularisation. Duality gap: 3.173e+10, tolerance: 1.093e+08\n",
      "  model = cd_fast.enet_coordinate_descent(\n",
      "c:\\Users\\1\\AppData\\Local\\Programs\\Python\\Python313\\Lib\\site-packages\\sklearn\\linear_model\\_coordinate_descent.py:695: ConvergenceWarning: Objective did not converge. You might want to increase the number of iterations, check the scale of the features or consider increasing regularisation. Duality gap: 3.187e+10, tolerance: 1.093e+08\n",
      "  model = cd_fast.enet_coordinate_descent(\n",
      "c:\\Users\\1\\AppData\\Local\\Programs\\Python\\Python313\\Lib\\site-packages\\sklearn\\linear_model\\_coordinate_descent.py:695: ConvergenceWarning: Objective did not converge. You might want to increase the number of iterations, check the scale of the features or consider increasing regularisation. Duality gap: 3.212e+10, tolerance: 1.092e+08\n",
      "  model = cd_fast.enet_coordinate_descent(\n",
      "c:\\Users\\1\\AppData\\Local\\Programs\\Python\\Python313\\Lib\\site-packages\\sklearn\\linear_model\\_coordinate_descent.py:695: ConvergenceWarning: Objective did not converge. You might want to increase the number of iterations, check the scale of the features or consider increasing regularisation. Duality gap: 4.271e+10, tolerance: 1.090e+08\n",
      "  model = cd_fast.enet_coordinate_descent(\n",
      "c:\\Users\\1\\AppData\\Local\\Programs\\Python\\Python313\\Lib\\site-packages\\sklearn\\linear_model\\_coordinate_descent.py:695: ConvergenceWarning: Objective did not converge. You might want to increase the number of iterations, check the scale of the features or consider increasing regularisation. Duality gap: 3.184e+10, tolerance: 1.095e+08\n",
      "  model = cd_fast.enet_coordinate_descent(\n",
      "c:\\Users\\1\\AppData\\Local\\Programs\\Python\\Python313\\Lib\\site-packages\\sklearn\\linear_model\\_coordinate_descent.py:695: ConvergenceWarning: Objective did not converge. You might want to increase the number of iterations, check the scale of the features or consider increasing regularisation. Duality gap: 1.176e+09, tolerance: 1.093e+08\n",
      "  model = cd_fast.enet_coordinate_descent(\n",
      "c:\\Users\\1\\AppData\\Local\\Programs\\Python\\Python313\\Lib\\site-packages\\sklearn\\linear_model\\_coordinate_descent.py:695: ConvergenceWarning: Objective did not converge. You might want to increase the number of iterations, check the scale of the features or consider increasing regularisation. Duality gap: 4.799e+09, tolerance: 1.093e+08\n",
      "  model = cd_fast.enet_coordinate_descent(\n",
      "c:\\Users\\1\\AppData\\Local\\Programs\\Python\\Python313\\Lib\\site-packages\\sklearn\\linear_model\\_coordinate_descent.py:695: ConvergenceWarning: Objective did not converge. You might want to increase the number of iterations, check the scale of the features or consider increasing regularisation. Duality gap: 5.973e+09, tolerance: 1.092e+08\n",
      "  model = cd_fast.enet_coordinate_descent(\n",
      "c:\\Users\\1\\AppData\\Local\\Programs\\Python\\Python313\\Lib\\site-packages\\sklearn\\linear_model\\_coordinate_descent.py:695: ConvergenceWarning: Objective did not converge. You might want to increase the number of iterations, check the scale of the features or consider increasing regularisation. Duality gap: 1.462e+09, tolerance: 1.090e+08\n",
      "  model = cd_fast.enet_coordinate_descent(\n",
      "c:\\Users\\1\\AppData\\Local\\Programs\\Python\\Python313\\Lib\\site-packages\\sklearn\\linear_model\\_coordinate_descent.py:695: ConvergenceWarning: Objective did not converge. You might want to increase the number of iterations, check the scale of the features or consider increasing regularisation. Duality gap: 7.258e+09, tolerance: 1.095e+08\n",
      "  model = cd_fast.enet_coordinate_descent(\n",
      "c:\\Users\\1\\AppData\\Local\\Programs\\Python\\Python313\\Lib\\site-packages\\sklearn\\linear_model\\_coordinate_descent.py:695: ConvergenceWarning: Objective did not converge. You might want to increase the number of iterations, check the scale of the features or consider increasing regularisation. Duality gap: 1.567e+08, tolerance: 1.093e+08\n",
      "  model = cd_fast.enet_coordinate_descent(\n",
      "c:\\Users\\1\\AppData\\Local\\Programs\\Python\\Python313\\Lib\\site-packages\\sklearn\\linear_model\\_coordinate_descent.py:695: ConvergenceWarning: Objective did not converge. You might want to increase the number of iterations, check the scale of the features or consider increasing regularisation. Duality gap: 1.812e+08, tolerance: 1.093e+08\n",
      "  model = cd_fast.enet_coordinate_descent(\n",
      "c:\\Users\\1\\AppData\\Local\\Programs\\Python\\Python313\\Lib\\site-packages\\sklearn\\linear_model\\_coordinate_descent.py:695: ConvergenceWarning: Objective did not converge. You might want to increase the number of iterations, check the scale of the features or consider increasing regularisation. Duality gap: 1.574e+08, tolerance: 1.092e+08\n",
      "  model = cd_fast.enet_coordinate_descent(\n",
      "c:\\Users\\1\\AppData\\Local\\Programs\\Python\\Python313\\Lib\\site-packages\\sklearn\\linear_model\\_coordinate_descent.py:695: ConvergenceWarning: Objective did not converge. You might want to increase the number of iterations, check the scale of the features or consider increasing regularisation. Duality gap: 7.251e+08, tolerance: 1.090e+08\n",
      "  model = cd_fast.enet_coordinate_descent(\n",
      "c:\\Users\\1\\AppData\\Local\\Programs\\Python\\Python313\\Lib\\site-packages\\sklearn\\linear_model\\_coordinate_descent.py:695: ConvergenceWarning: Objective did not converge. You might want to increase the number of iterations, check the scale of the features or consider increasing regularisation. Duality gap: 1.920e+08, tolerance: 1.095e+08\n",
      "  model = cd_fast.enet_coordinate_descent(\n",
      "c:\\Users\\1\\AppData\\Local\\Programs\\Python\\Python313\\Lib\\site-packages\\sklearn\\linear_model\\_coordinate_descent.py:695: ConvergenceWarning: Objective did not converge. You might want to increase the number of iterations, check the scale of the features or consider increasing regularisation. Duality gap: 3.854e+08, tolerance: 1.093e+08\n",
      "  model = cd_fast.enet_coordinate_descent(\n",
      "c:\\Users\\1\\AppData\\Local\\Programs\\Python\\Python313\\Lib\\site-packages\\sklearn\\linear_model\\_coordinate_descent.py:695: ConvergenceWarning: Objective did not converge. You might want to increase the number of iterations, check the scale of the features or consider increasing regularisation. Duality gap: 4.085e+08, tolerance: 1.093e+08\n",
      "  model = cd_fast.enet_coordinate_descent(\n",
      "c:\\Users\\1\\AppData\\Local\\Programs\\Python\\Python313\\Lib\\site-packages\\sklearn\\linear_model\\_coordinate_descent.py:695: ConvergenceWarning: Objective did not converge. You might want to increase the number of iterations, check the scale of the features or consider increasing regularisation. Duality gap: 3.846e+08, tolerance: 1.092e+08\n",
      "  model = cd_fast.enet_coordinate_descent(\n",
      "c:\\Users\\1\\AppData\\Local\\Programs\\Python\\Python313\\Lib\\site-packages\\sklearn\\linear_model\\_coordinate_descent.py:695: ConvergenceWarning: Objective did not converge. You might want to increase the number of iterations, check the scale of the features or consider increasing regularisation. Duality gap: 4.575e+08, tolerance: 1.090e+08\n",
      "  model = cd_fast.enet_coordinate_descent(\n",
      "c:\\Users\\1\\AppData\\Local\\Programs\\Python\\Python313\\Lib\\site-packages\\sklearn\\linear_model\\_coordinate_descent.py:695: ConvergenceWarning: Objective did not converge. You might want to increase the number of iterations, check the scale of the features or consider increasing regularisation. Duality gap: 4.474e+08, tolerance: 1.095e+08\n",
      "  model = cd_fast.enet_coordinate_descent(\n",
      "c:\\Users\\1\\AppData\\Local\\Programs\\Python\\Python313\\Lib\\site-packages\\sklearn\\linear_model\\_coordinate_descent.py:695: ConvergenceWarning: Objective did not converge. You might want to increase the number of iterations, check the scale of the features or consider increasing regularisation. Duality gap: 2.252e+11, tolerance: 1.366e+08\n",
      "  model = cd_fast.enet_coordinate_descent(\n"
     ]
    },
    {
     "name": "stdout",
     "output_type": "stream",
     "text": [
      "best params for Lasso: {'alpha': 0.001, 'max_iter': 10}\n",
      "best score for Ridge: -1436.6887319113955\n"
     ]
    }
   ],
   "source": [
    "grid_lasso = GridSearchCV(estimator=lasso,\n",
    "                        param_grid=param_grid, \n",
    "                        scoring={\n",
    "                            'MAE': make_scorer(mean_absolute_error, greater_is_better=False),\n",
    "                            'MSR': make_scorer(mean_squared_error, greater_is_better=False)\n",
    "                        },\n",
    "                        refit='MAE', \n",
    "                        cv=5, \n",
    "                        return_train_score=True\n",
    "                        )\n",
    "grid_lasso.fit(X_train, y_train)\n",
    "print(f'best params for Lasso: {grid_lasso.best_params_}')\n",
    "\n",
    "\n",
    "grid_ridge = GridSearchCV(estimator=ridge,\n",
    "                        param_grid=param_grid, \n",
    "                        scoring={\n",
    "                            'MAE': make_scorer(mean_absolute_error, greater_is_better=False),\n",
    "                            'MSR': make_scorer(mean_squared_error, greater_is_better=False)\n",
    "                        },\n",
    "                        refit='MAE', \n",
    "                        cv=5, \n",
    "                        return_train_score=True\n",
    "                        )\n",
    "grid_ridge.fit(X_train, y_train)\n",
    "print(f'best score for Ridge: {grid_ridge.best_score_}')"
   ]
  },
  {
   "cell_type": "code",
   "execution_count": 837,
   "id": "bad97f28",
   "metadata": {},
   "outputs": [
    {
     "data": {
      "text/plain": [
       "np.int64(13050)"
      ]
     },
     "execution_count": 837,
     "metadata": {},
     "output_type": "execute_result"
    }
   ],
   "source": [
    "y.max()"
   ]
  },
  {
   "cell_type": "markdown",
   "id": "82e7e35f",
   "metadata": {},
   "source": [
    "почему было решено использовать MAE? Дело в том, что мы считаем цену автомобиля. Она может варьироватьяс от почти нулей до нескольких десятков тысяч. Таким образом, MSE будет сильно штрафовать даже за не значительные ошибки. "
   ]
  },
  {
   "cell_type": "code",
   "execution_count": 838,
   "id": "117fc4cb",
   "metadata": {},
   "outputs": [
    {
     "data": {
      "text/plain": [
       "array([-1.,  1.])"
      ]
     },
     "execution_count": 838,
     "metadata": {},
     "output_type": "execute_result"
    }
   ],
   "source": [
    "df['gearbox'].unique()"
   ]
  },
  {
   "cell_type": "markdown",
   "id": "210d81bb",
   "metadata": {},
   "source": [
    "d.\tВычислите точность решения задачи, вычислив разницу между реальным значением и предсказанным на тестовой выборке (MAE или MSE). "
   ]
  },
  {
   "cell_type": "code",
   "execution_count": 840,
   "id": "bbfa49dc",
   "metadata": {},
   "outputs": [
    {
     "name": "stdout",
     "output_type": "stream",
     "text": [
      "Lasso:\n",
      "MAE: 1441.8484991\n",
      "MSE: 3733888.1749540\n",
      "\n",
      "Ridge:\n",
      "MAE: 1441.8450434\n",
      "MSE: 3733865.0451604\n"
     ]
    }
   ],
   "source": [
    "from sklearn.metrics import mean_absolute_error, mean_squared_error\n",
    "\n",
    "# Предсказание для Lasso и Ridge\n",
    "y_pred_lasso = grid_lasso.best_estimator_.predict(X_test)\n",
    "y_pred_ridge = grid_ridge.best_estimator_.predict(X_test)\n",
    "\n",
    "# Метрики\n",
    "print(\"Lasso:\")\n",
    "print(f\"MAE: {mean_absolute_error(y_test, y_pred_lasso):.7f}\")\n",
    "print(f\"MSE: {mean_squared_error(y_test, y_pred_lasso):.7f}\")\n",
    "\n",
    "print(\"\\nRidge:\")\n",
    "print(f\"MAE: {mean_absolute_error(y_test, y_pred_ridge):.7f}\")\n",
    "print(f\"MSE: {mean_squared_error(y_test, y_pred_ridge):.7f}\")"
   ]
  },
  {
   "cell_type": "markdown",
   "id": "694dc206",
   "metadata": {},
   "source": [
    "e.\tВычислите коэффициент корреляции (Пирсона, Спирмена) между реальным значением и предсказанным. Проанализируйте значение p-value."
   ]
  },
  {
   "cell_type": "code",
   "execution_count": 844,
   "id": "2b178e89",
   "metadata": {},
   "outputs": [
    {
     "name": "stdout",
     "output_type": "stream",
     "text": [
      "lasso pearson: 0.8126409, p-value=0.0000000\n",
      "lasso spearman: 0.8519579, p-value=0.0000000\n",
      "\n",
      "ridge pearson: 0.8126423, p-value=0.0000000\n",
      "ridge spearman: 0.8519596, p-value=0.0000000\n"
     ]
    }
   ],
   "source": [
    "from scipy.stats import pearsonr, spearmanr\n",
    "\n",
    "# Lasso\n",
    "pearson_corr, pearson_p = pearsonr(y_test, y_pred_lasso)\n",
    "spearman_corr, spearman_p = spearmanr(y_test, y_pred_lasso)\n",
    "\n",
    "print(f\"lasso pearson: {pearson_corr:.7f}, p-value={pearson_p:.7f}\")\n",
    "print(f\"lasso spearman: {spearman_corr:.7f}, p-value={spearman_p:.7f}\\n\")\n",
    "\n",
    "# Ridge\n",
    "pearson_corr, pearson_p = pearsonr(y_test, y_pred_ridge)\n",
    "spearman_corr, spearman_p = spearmanr(y_test, y_pred_ridge)\n",
    "\n",
    "print(f\"ridge pearson: {pearson_corr:.7f}, p-value={pearson_p:.7f}\")\n",
    "print(f\"ridge spearman: {spearman_corr:.7f}, p-value={spearman_p:.7f}\")"
   ]
  }
 ],
 "metadata": {
  "kernelspec": {
   "display_name": "Python 3",
   "language": "python",
   "name": "python3"
  },
  "language_info": {
   "codemirror_mode": {
    "name": "ipython",
    "version": 3
   },
   "file_extension": ".py",
   "mimetype": "text/x-python",
   "name": "python",
   "nbconvert_exporter": "python",
   "pygments_lexer": "ipython3",
   "version": "3.13.1"
  }
 },
 "nbformat": 4,
 "nbformat_minor": 5
}
